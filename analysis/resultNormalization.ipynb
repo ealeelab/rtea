{
 "cells": [
  {
   "cell_type": "code",
   "execution_count": 1,
   "metadata": {},
   "outputs": [],
   "source": [
    "import pandas as pd"
   ]
  },
  {
   "cell_type": "code",
   "execution_count": 58,
   "metadata": {},
   "outputs": [
    {
     "name": "stdout",
     "output_type": "stream",
     "text": [
      "Collecting gcsfs\n",
      "  Downloading gcsfs-0.6.2-py2.py3-none-any.whl (17 kB)\n",
      "Requirement already satisfied: google-auth>=1.2 in /Users/junseokpark/anaconda3/envs/kubernetes/lib/python3.6/site-packages (from gcsfs) (1.15.0)\n",
      "Requirement already satisfied: decorator in /Users/junseokpark/anaconda3/envs/kubernetes/lib/python3.6/site-packages (from gcsfs) (4.4.2)\n",
      "Collecting fsspec>=0.6.0\n",
      "  Downloading fsspec-0.7.4-py3-none-any.whl (75 kB)\n",
      "\u001b[K     |████████████████████████████████| 75 kB 4.0 MB/s eta 0:00:011\n",
      "\u001b[?25hCollecting google-auth-oauthlib\n",
      "  Downloading google_auth_oauthlib-0.4.1-py2.py3-none-any.whl (18 kB)\n",
      "Requirement already satisfied: requests in /Users/junseokpark/anaconda3/envs/kubernetes/lib/python3.6/site-packages (from gcsfs) (2.23.0)\n",
      "Requirement already satisfied: six>=1.9.0 in /Users/junseokpark/anaconda3/envs/kubernetes/lib/python3.6/site-packages (from google-auth>=1.2->gcsfs) (1.14.0)\n",
      "Requirement already satisfied: setuptools>=40.3.0 in /Users/junseokpark/anaconda3/envs/kubernetes/lib/python3.6/site-packages (from google-auth>=1.2->gcsfs) (46.4.0.post20200518)\n",
      "Requirement already satisfied: pyasn1-modules>=0.2.1 in /Users/junseokpark/anaconda3/envs/kubernetes/lib/python3.6/site-packages (from google-auth>=1.2->gcsfs) (0.2.8)\n",
      "Requirement already satisfied: cachetools<5.0,>=2.0.0 in /Users/junseokpark/anaconda3/envs/kubernetes/lib/python3.6/site-packages (from google-auth>=1.2->gcsfs) (4.1.0)\n",
      "Requirement already satisfied: rsa<4.1,>=3.1.4 in /Users/junseokpark/anaconda3/envs/kubernetes/lib/python3.6/site-packages (from google-auth>=1.2->gcsfs) (4.0)\n",
      "Collecting requests-oauthlib>=0.7.0\n",
      "  Downloading requests_oauthlib-1.3.0-py2.py3-none-any.whl (23 kB)\n",
      "Requirement already satisfied: certifi>=2017.4.17 in /Users/junseokpark/anaconda3/envs/kubernetes/lib/python3.6/site-packages (from requests->gcsfs) (2020.4.5.1)\n",
      "Requirement already satisfied: urllib3!=1.25.0,!=1.25.1,<1.26,>=1.21.1 in /Users/junseokpark/anaconda3/envs/kubernetes/lib/python3.6/site-packages (from requests->gcsfs) (1.25.9)\n",
      "Requirement already satisfied: idna<3,>=2.5 in /Users/junseokpark/anaconda3/envs/kubernetes/lib/python3.6/site-packages (from requests->gcsfs) (2.9)\n",
      "Requirement already satisfied: chardet<4,>=3.0.2 in /Users/junseokpark/anaconda3/envs/kubernetes/lib/python3.6/site-packages (from requests->gcsfs) (3.0.4)\n",
      "Requirement already satisfied: pyasn1<0.5.0,>=0.4.6 in /Users/junseokpark/anaconda3/envs/kubernetes/lib/python3.6/site-packages (from pyasn1-modules>=0.2.1->google-auth>=1.2->gcsfs) (0.4.8)\n",
      "Collecting oauthlib>=3.0.0\n",
      "  Downloading oauthlib-3.1.0-py2.py3-none-any.whl (147 kB)\n",
      "\u001b[K     |████████████████████████████████| 147 kB 7.4 MB/s eta 0:00:01\n",
      "\u001b[?25hInstalling collected packages: fsspec, oauthlib, requests-oauthlib, google-auth-oauthlib, gcsfs\n",
      "Successfully installed fsspec-0.7.4 gcsfs-0.6.2 google-auth-oauthlib-0.4.1 oauthlib-3.1.0 requests-oauthlib-1.3.0\n"
     ]
    }
   ],
   "source": [
    "!pip install gcsfs"
   ]
  },
  {
   "cell_type": "code",
   "execution_count": 72,
   "metadata": {},
   "outputs": [
    {
     "name": "stdout",
     "output_type": "stream",
     "text": [
      "Collecting tqdm\n",
      "  Downloading tqdm-4.47.0-py2.py3-none-any.whl (66 kB)\n",
      "\u001b[K     |████████████████████████████████| 66 kB 3.7 MB/s eta 0:00:011\n",
      "\u001b[?25hInstalling collected packages: tqdm\n",
      "Successfully installed tqdm-4.47.0\n"
     ]
    }
   ],
   "source": [
    "!pip install tqdm"
   ]
  },
  {
   "cell_type": "code",
   "execution_count": 106,
   "metadata": {},
   "outputs": [
    {
     "name": "stdout",
     "output_type": "stream",
     "text": [
      "Solving environment: done\n",
      "\n",
      "\n",
      "==> WARNING: A newer version of conda exists. <==\n",
      "  current version: 4.4.10\n",
      "  latest version: 4.8.3\n",
      "\n",
      "Please update conda by running\n",
      "\n",
      "    $ conda update -n base conda\n",
      "\n",
      "\n",
      "\n",
      "## Package Plan ##\n",
      "\n",
      "  environment location: /Users/junseokpark/anaconda3/envs/kubernetes\n",
      "\n",
      "  added / updated specs: \n",
      "    - dask\n",
      "\n",
      "\n",
      "The following packages will be downloaded:\n",
      "\n",
      "    package                    |            build\n",
      "    ---------------------------|-----------------\n",
      "    numpy-1.18.5               |   py36hdc5ca10_0         5.0 MB  conda-forge\n",
      "    toolz-0.10.0               |             py_0          46 KB  conda-forge\n",
      "    tornado-6.0.4              |   py36h37b9a7d_1         639 KB  conda-forge\n",
      "    ca-certificates-2020.6.20  |       hecda079_0         146 KB  conda-forge\n",
      "    pyyaml-5.3.1               |   py36h37b9a7d_0         171 KB  conda-forge\n",
      "    jinja2-2.11.2              |     pyh9f0ad1d_0          93 KB  conda-forge\n",
      "    cloudpickle-1.5.0          |             py_0          22 KB  conda-forge\n",
      "    locket-0.2.0               |             py_2           6 KB  conda-forge\n",
      "    markupsafe-1.1.1           |   py36h37b9a7d_1          25 KB  conda-forge\n",
      "    packaging-20.4             |     pyh9f0ad1d_0          32 KB  conda-forge\n",
      "    libpng-1.6.37              |       hbbe82c9_1         295 KB  conda-forge\n",
      "    six-1.15.0                 |     pyh9f0ad1d_0          14 KB  conda-forge\n",
      "    fsspec-0.7.4               |             py_0          55 KB  conda-forge\n",
      "    python-dateutil-2.8.1      |             py_0         220 KB  conda-forge\n",
      "    libblas-3.8.0              |      17_openblas          11 KB  conda-forge\n",
      "    dask-2.20.0                |             py_0           4 KB  conda-forge\n",
      "    libwebp-base-1.1.0         |       h0b31af3_3         766 KB  conda-forge\n",
      "    dask-core-2.20.0           |             py_0         623 KB  conda-forge\n",
      "    click-7.1.2                |     pyh9f0ad1d_0          64 KB  conda-forge\n",
      "    contextvars-2.4            |             py_0          11 KB  conda-forge\n",
      "    zict-2.0.0                 |             py_0          10 KB  conda-forge\n",
      "    yaml-0.2.5                 |       h0b31af3_0          81 KB  conda-forge\n",
      "    pandas-1.0.5               |   py36hcc1bba6_0         9.7 MB  conda-forge\n",
      "    partd-1.1.0                |             py_0          17 KB  conda-forge\n",
      "    immutables-0.14            |   py36h37b9a7d_0          67 KB  conda-forge\n",
      "    liblapack-3.8.0            |      17_openblas          11 KB  conda-forge\n",
      "    olefile-0.46               |             py_0          31 KB  conda-forge\n",
      "    typing_extensions-3.7.4.2  |             py_0          25 KB  conda-forge\n",
      "    pillow-7.2.0               |   py36h2ae5dfa_1         638 KB  conda-forge\n",
      "    distributed-2.20.0         |   py36h9f0ad1d_0         1.0 MB  conda-forge\n",
      "    llvm-openmp-10.0.0         |       h28b9765_0         268 KB  conda-forge\n",
      "    cytoolz-0.10.1             |   py36h0b31af3_0         370 KB  conda-forge\n",
      "    psutil-5.7.2               |   py36h9de38fb_0         344 KB  conda-forge\n",
      "    heapdict-1.0.1             |             py_0           7 KB  conda-forge\n",
      "    freetype-2.10.2            |       h8da9a1a_0         874 KB  conda-forge\n",
      "    tblib-1.6.0                |             py_0          14 KB  conda-forge\n",
      "    lz4-c-1.9.2                |       h4a8c4bd_1         169 KB  conda-forge\n",
      "    pyparsing-2.4.7            |     pyh9f0ad1d_0          60 KB  conda-forge\n",
      "    libopenblas-0.3.10         |openmp_h63d9170_1         8.2 MB  conda-forge\n",
      "    jpeg-9d                    |       h0b31af3_0         251 KB  conda-forge\n",
      "    zstd-1.4.4                 |       h4b3e974_3         1.0 MB  conda-forge\n",
      "    lcms2-2.11                 |       h174193d_0         378 KB  conda-forge\n",
      "    certifi-2020.6.20          |   py36h9f0ad1d_0         151 KB  conda-forge\n",
      "    bokeh-2.1.1                |   py36h9f0ad1d_0         7.0 MB  conda-forge\n",
      "    sortedcontainers-2.2.2     |     pyh9f0ad1d_0          25 KB  conda-forge\n",
      "    libcblas-3.8.0             |      17_openblas          11 KB  conda-forge\n",
      "    libgfortran-4.0.0          |                2         716 KB  conda-forge\n",
      "    libtiff-4.1.0              |       h2ae36a8_6         614 KB  conda-forge\n",
      "    pytz-2020.1                |     pyh9f0ad1d_0         227 KB  conda-forge\n",
      "    msgpack-python-1.0.0       |   py36h863e41a_1          85 KB  conda-forge\n",
      "    ------------------------------------------------------------\n",
      "                                           Total:        40.5 MB\n",
      "\n",
      "The following NEW packages will be INSTALLED:\n",
      "\n",
      "    bokeh:             2.1.1-py36h9f0ad1d_0      conda-forge\n",
      "    click:             7.1.2-pyh9f0ad1d_0        conda-forge\n",
      "    cloudpickle:       1.5.0-py_0                conda-forge\n",
      "    contextvars:       2.4-py_0                  conda-forge\n",
      "    cytoolz:           0.10.1-py36h0b31af3_0     conda-forge\n",
      "    dask:              2.20.0-py_0               conda-forge\n",
      "    dask-core:         2.20.0-py_0               conda-forge\n",
      "    distributed:       2.20.0-py36h9f0ad1d_0     conda-forge\n",
      "    freetype:          2.10.2-h8da9a1a_0         conda-forge\n",
      "    fsspec:            0.7.4-py_0                conda-forge\n",
      "    heapdict:          1.0.1-py_0                conda-forge\n",
      "    immutables:        0.14-py36h37b9a7d_0       conda-forge\n",
      "    jinja2:            2.11.2-pyh9f0ad1d_0       conda-forge\n",
      "    jpeg:              9d-h0b31af3_0             conda-forge\n",
      "    lcms2:             2.11-h174193d_0           conda-forge\n",
      "    libblas:           3.8.0-17_openblas         conda-forge\n",
      "    libcblas:          3.8.0-17_openblas         conda-forge\n",
      "    libgfortran:       4.0.0-2                   conda-forge\n",
      "    liblapack:         3.8.0-17_openblas         conda-forge\n",
      "    libopenblas:       0.3.10-openmp_h63d9170_1  conda-forge\n",
      "    libpng:            1.6.37-hbbe82c9_1         conda-forge\n",
      "    libtiff:           4.1.0-h2ae36a8_6          conda-forge\n",
      "    libwebp-base:      1.1.0-h0b31af3_3          conda-forge\n",
      "    llvm-openmp:       10.0.0-h28b9765_0         conda-forge\n",
      "    locket:            0.2.0-py_2                conda-forge\n",
      "    lz4-c:             1.9.2-h4a8c4bd_1          conda-forge\n",
      "    markupsafe:        1.1.1-py36h37b9a7d_1      conda-forge\n",
      "    msgpack-python:    1.0.0-py36h863e41a_1      conda-forge\n",
      "    numpy:             1.18.5-py36hdc5ca10_0     conda-forge\n",
      "    olefile:           0.46-py_0                 conda-forge\n",
      "    packaging:         20.4-pyh9f0ad1d_0         conda-forge\n",
      "    pandas:            1.0.5-py36hcc1bba6_0      conda-forge\n",
      "    partd:             1.1.0-py_0                conda-forge\n",
      "    pillow:            7.2.0-py36h2ae5dfa_1      conda-forge\n",
      "    psutil:            5.7.2-py36h9de38fb_0      conda-forge\n",
      "    pyparsing:         2.4.7-pyh9f0ad1d_0        conda-forge\n",
      "    python-dateutil:   2.8.1-py_0                conda-forge\n",
      "    pytz:              2020.1-pyh9f0ad1d_0       conda-forge\n",
      "    pyyaml:            5.3.1-py36h37b9a7d_0      conda-forge\n",
      "    six:               1.15.0-pyh9f0ad1d_0       conda-forge\n",
      "    sortedcontainers:  2.2.2-pyh9f0ad1d_0        conda-forge\n",
      "    tblib:             1.6.0-py_0                conda-forge\n",
      "    toolz:             0.10.0-py_0               conda-forge\n",
      "    tornado:           6.0.4-py36h37b9a7d_1      conda-forge\n",
      "    typing_extensions: 3.7.4.2-py_0              conda-forge\n",
      "    yaml:              0.2.5-h0b31af3_0          conda-forge\n",
      "    zict:              2.0.0-py_0                conda-forge\n",
      "    zstd:              1.4.4-h4b3e974_3          conda-forge\n",
      "\n",
      "The following packages will be UPDATED:\n",
      "\n",
      "    ca-certificates:   2020.4.5.1-hecc5488_0     conda-forge --> 2020.6.20-hecda079_0     conda-forge\n",
      "    certifi:           2020.4.5.1-py36h9f0ad1d_0 conda-forge --> 2020.6.20-py36h9f0ad1d_0 conda-forge\n",
      "\n",
      "\n",
      "Downloading and Extracting Packages\n",
      "numpy 1.18.5: ########################################################## | 100% \n",
      "toolz 0.10.0: ########################################################## | 100% \n",
      "tornado 6.0.4: ######################################################### | 100% \n",
      "ca-certificates 2020.6.20: ############################################# | 100% \n",
      "pyyaml 5.3.1: ########################################################## | 100% \n",
      "jinja2 2.11.2: ######################################################### | 100% \n",
      "cloudpickle 1.5.0: ##################################################### | 100% \n",
      "locket 0.2.0: ########################################################## | 100% \n",
      "markupsafe 1.1.1: ###################################################### | 100% \n",
      "packaging 20.4: ######################################################## | 100% \n",
      "libpng 1.6.37: ######################################################### | 100% \n",
      "six 1.15.0: ############################################################ | 100% \n",
      "fsspec 0.7.4: ########################################################## | 100% \n",
      "python-dateutil 2.8.1: ################################################# | 100% \n",
      "libblas 3.8.0: ######################################################### | 100% \n",
      "dask 2.20.0: ########################################################### | 100% \n",
      "libwebp-base 1.1.0: #################################################### | 100% \n",
      "dask-core 2.20.0: ###################################################### | 100% \n",
      "click 7.1.2: ########################################################### | 100% \n",
      "contextvars 2.4: ####################################################### | 100% \n",
      "zict 2.0.0: ############################################################ | 100% \n",
      "yaml 0.2.5: ############################################################ | 100% \n",
      "pandas 1.0.5: ########################################################## | 100% \n",
      "partd 1.1.0: ########################################################### | 100% \n",
      "immutables 0.14: ####################################################### | 100% \n",
      "liblapack 3.8.0: ####################################################### | 100% \n",
      "olefile 0.46: ########################################################## | 100% \n",
      "typing_extensions 3.7.4.2: ############################################# | 100% \n",
      "pillow 7.2.0: ########################################################## | 100% \n",
      "distributed 2.20.0: #################################################### | 100% \n",
      "llvm-openmp 10.0.0: #################################################### | 100% \n",
      "cytoolz 0.10.1: ######################################################## | 100% \n",
      "psutil 5.7.2: ########################################################## | 100% \n",
      "heapdict 1.0.1: ######################################################## | 100% \n",
      "freetype 2.10.2: ####################################################### | 100% \n",
      "tblib 1.6.0: ########################################################### | 100% \n",
      "lz4-c 1.9.2: ########################################################### | 100% \n",
      "pyparsing 2.4.7: ####################################################### | 100% \n",
      "libopenblas 0.3.10: #################################################### | 100% \n",
      "jpeg 9d: ############################################################### | 100% \n",
      "zstd 1.4.4: ############################################################ | 100% \n",
      "lcms2 2.11: ############################################################ | 100% \n",
      "certifi 2020.6.20: ##################################################### | 100% \n",
      "bokeh 2.1.1: ########################################################### | 100% \n",
      "sortedcontainers 2.2.2: ################################################ | 100% \n",
      "libcblas 3.8.0: ######################################################## | 100% \n",
      "libgfortran 4.0.0: ##################################################### | 100% \n",
      "libtiff 4.1.0: ######################################################### | 100% \n",
      "pytz 2020.1: ########################################################### | 100% \n",
      "msgpack-python 1.0.0: ################################################## | 100% \n",
      "Preparing transaction: done\n",
      "Verifying transaction: done\n",
      "Executing transaction: done\n"
     ]
    }
   ],
   "source": [
    "!conda install -y dask"
   ]
  },
  {
   "cell_type": "code",
   "execution_count": 2,
   "metadata": {},
   "outputs": [],
   "source": [
    "df = pd.read_csv('sampleData/01581d3a-8427-41db-82c2-a7dd880a3937.rtea.txt', sep='\\t')"
   ]
  },
  {
   "cell_type": "code",
   "execution_count": 3,
   "metadata": {},
   "outputs": [],
   "source": [
    "## Get count of Each Class"
   ]
  },
  {
   "cell_type": "code",
   "execution_count": 3,
   "metadata": {},
   "outputs": [
    {
     "data": {
      "text/html": [
       "<div>\n",
       "<style scoped>\n",
       "    .dataframe tbody tr th:only-of-type {\n",
       "        vertical-align: middle;\n",
       "    }\n",
       "\n",
       "    .dataframe tbody tr th {\n",
       "        vertical-align: top;\n",
       "    }\n",
       "\n",
       "    .dataframe thead th {\n",
       "        text-align: right;\n",
       "    }\n",
       "</style>\n",
       "<table border=\"1\" class=\"dataframe\">\n",
       "  <thead>\n",
       "    <tr style=\"text-align: right;\">\n",
       "      <th></th>\n",
       "      <th>chr</th>\n",
       "      <th>pos</th>\n",
       "      <th>ori</th>\n",
       "      <th>cnt</th>\n",
       "      <th>class</th>\n",
       "      <th>family</th>\n",
       "      <th>moreFamily</th>\n",
       "      <th>confidence</th>\n",
       "      <th>seq</th>\n",
       "      <th>isPolyA</th>\n",
       "      <th>...</th>\n",
       "      <th>hardSpl</th>\n",
       "      <th>Filter</th>\n",
       "      <th>fusion_type</th>\n",
       "      <th>tx_id</th>\n",
       "      <th>tx_biotype</th>\n",
       "      <th>gene_id.1</th>\n",
       "      <th>gene_name.1</th>\n",
       "      <th>tx_support_exon</th>\n",
       "      <th>tx_support_intron</th>\n",
       "      <th>numgap</th>\n",
       "    </tr>\n",
       "  </thead>\n",
       "  <tbody>\n",
       "    <tr>\n",
       "      <th>0</th>\n",
       "      <td>1</td>\n",
       "      <td>498397</td>\n",
       "      <td>f</td>\n",
       "      <td>4</td>\n",
       "      <td>Alu</td>\n",
       "      <td>AluY</td>\n",
       "      <td>AluY:1</td>\n",
       "      <td>2</td>\n",
       "      <td>CCTTGGACAACAGAGGGAGAC</td>\n",
       "      <td>False</td>\n",
       "      <td>...</td>\n",
       "      <td>NaN</td>\n",
       "      <td>secondary;lowTEscore</td>\n",
       "      <td>exonic/exonization</td>\n",
       "      <td>ENST00000616947</td>\n",
       "      <td>lincRNA</td>\n",
       "      <td>ENSG00000237094</td>\n",
       "      <td>RP4-669L17.10</td>\n",
       "      <td>5.0</td>\n",
       "      <td>0.0</td>\n",
       "      <td>0</td>\n",
       "    </tr>\n",
       "    <tr>\n",
       "      <th>1</th>\n",
       "      <td>1</td>\n",
       "      <td>632543</td>\n",
       "      <td>f</td>\n",
       "      <td>680</td>\n",
       "      <td>PolyA</td>\n",
       "      <td>AluY</td>\n",
       "      <td>AluY:7,L1HS:1</td>\n",
       "      <td>2</td>\n",
       "      <td>AAAAAAAAAACCCCCCCAAA</td>\n",
       "      <td>True</td>\n",
       "      <td>...</td>\n",
       "      <td>NaN</td>\n",
       "      <td>lowCnt;noisy;lowTEscore</td>\n",
       "      <td>exonic/exonization</td>\n",
       "      <td>ENST00000414273</td>\n",
       "      <td>unprocessed_pseudogene</td>\n",
       "      <td>ENSG00000237973</td>\n",
       "      <td>MTCO1P12</td>\n",
       "      <td>420.0</td>\n",
       "      <td>0.0</td>\n",
       "      <td>0</td>\n",
       "    </tr>\n",
       "    <tr>\n",
       "      <th>2</th>\n",
       "      <td>1</td>\n",
       "      <td>633792</td>\n",
       "      <td>f</td>\n",
       "      <td>1852</td>\n",
       "      <td>Alu</td>\n",
       "      <td>AluSz</td>\n",
       "      <td>AluY:3</td>\n",
       "      <td>2</td>\n",
       "      <td>CTGACCTCAAGTGATCCGCCCG</td>\n",
       "      <td>False</td>\n",
       "      <td>...</td>\n",
       "      <td>NaN</td>\n",
       "      <td>lowCnt</td>\n",
       "      <td>alternative TSS</td>\n",
       "      <td>ENST00000514057</td>\n",
       "      <td>unprocessed_pseudogene</td>\n",
       "      <td>ENSG00000248527</td>\n",
       "      <td>MTATP6P1</td>\n",
       "      <td>2458.0</td>\n",
       "      <td>0.0</td>\n",
       "      <td>0</td>\n",
       "    </tr>\n",
       "    <tr>\n",
       "      <th>3</th>\n",
       "      <td>1</td>\n",
       "      <td>733305</td>\n",
       "      <td>f</td>\n",
       "      <td>4</td>\n",
       "      <td>Alu</td>\n",
       "      <td>AluY</td>\n",
       "      <td>AluY:1</td>\n",
       "      <td>2</td>\n",
       "      <td>CCTTGGACAACAGAGGGAGAC</td>\n",
       "      <td>False</td>\n",
       "      <td>...</td>\n",
       "      <td>NaN</td>\n",
       "      <td>secondary;lowMapQual;lowTEscore</td>\n",
       "      <td>exonic/exonization</td>\n",
       "      <td>ENST00000506640</td>\n",
       "      <td>processed_transcript</td>\n",
       "      <td>ENSG00000228327</td>\n",
       "      <td>RP11-206L10.2</td>\n",
       "      <td>4.0</td>\n",
       "      <td>0.0</td>\n",
       "      <td>0</td>\n",
       "    </tr>\n",
       "    <tr>\n",
       "      <th>4</th>\n",
       "      <td>1</td>\n",
       "      <td>7969146</td>\n",
       "      <td>f</td>\n",
       "      <td>5</td>\n",
       "      <td>HERV</td>\n",
       "      <td>HERVH48I</td>\n",
       "      <td>.</td>\n",
       "      <td>2</td>\n",
       "      <td>TGAAGATGCAAAAAAAAAG</td>\n",
       "      <td>False</td>\n",
       "      <td>...</td>\n",
       "      <td>NaN</td>\n",
       "      <td>secondary;lowTEscore</td>\n",
       "      <td>exonic/exonization</td>\n",
       "      <td>ENST00000460192</td>\n",
       "      <td>retained_intron</td>\n",
       "      <td>ENSG00000116288</td>\n",
       "      <td>PARK7</td>\n",
       "      <td>3.0</td>\n",
       "      <td>45.0</td>\n",
       "      <td>55</td>\n",
       "    </tr>\n",
       "  </tbody>\n",
       "</table>\n",
       "<p>5 rows × 63 columns</p>\n",
       "</div>"
      ],
      "text/plain": [
       "  chr      pos ori   cnt  class    family     moreFamily  confidence  \\\n",
       "0   1   498397   f     4    Alu      AluY         AluY:1           2   \n",
       "1   1   632543   f   680  PolyA      AluY  AluY:7,L1HS:1           2   \n",
       "2   1   633792   f  1852    Alu     AluSz         AluY:3           2   \n",
       "3   1   733305   f     4    Alu      AluY         AluY:1           2   \n",
       "4   1  7969146   f     5   HERV  HERVH48I              .           2   \n",
       "\n",
       "                      seq  isPolyA  ... hardSpl  \\\n",
       "0   CCTTGGACAACAGAGGGAGAC    False  ...     NaN   \n",
       "1    AAAAAAAAAACCCCCCCAAA     True  ...     NaN   \n",
       "2  CTGACCTCAAGTGATCCGCCCG    False  ...     NaN   \n",
       "3   CCTTGGACAACAGAGGGAGAC    False  ...     NaN   \n",
       "4     TGAAGATGCAAAAAAAAAG    False  ...     NaN   \n",
       "\n",
       "                            Filter         fusion_type            tx_id  \\\n",
       "0             secondary;lowTEscore  exonic/exonization  ENST00000616947   \n",
       "1          lowCnt;noisy;lowTEscore  exonic/exonization  ENST00000414273   \n",
       "2                           lowCnt     alternative TSS  ENST00000514057   \n",
       "3  secondary;lowMapQual;lowTEscore  exonic/exonization  ENST00000506640   \n",
       "4             secondary;lowTEscore  exonic/exonization  ENST00000460192   \n",
       "\n",
       "               tx_biotype        gene_id.1    gene_name.1  tx_support_exon  \\\n",
       "0                 lincRNA  ENSG00000237094  RP4-669L17.10              5.0   \n",
       "1  unprocessed_pseudogene  ENSG00000237973       MTCO1P12            420.0   \n",
       "2  unprocessed_pseudogene  ENSG00000248527       MTATP6P1           2458.0   \n",
       "3    processed_transcript  ENSG00000228327  RP11-206L10.2              4.0   \n",
       "4         retained_intron  ENSG00000116288          PARK7              3.0   \n",
       "\n",
       "  tx_support_intron  numgap  \n",
       "0               0.0       0  \n",
       "1               0.0       0  \n",
       "2               0.0       0  \n",
       "3               0.0       0  \n",
       "4              45.0      55  \n",
       "\n",
       "[5 rows x 63 columns]"
      ]
     },
     "execution_count": 3,
     "metadata": {},
     "output_type": "execute_result"
    }
   ],
   "source": [
    "df.head()"
   ]
  },
  {
   "cell_type": "code",
   "execution_count": 4,
   "metadata": {},
   "outputs": [
    {
     "data": {
      "text/plain": [
       "['HERV', 'PolyA', 'Alu', 'L1', 'SVA']"
      ]
     },
     "execution_count": 4,
     "metadata": {},
     "output_type": "execute_result"
    }
   ],
   "source": [
    "list(set(df[\"class\"]))"
   ]
  },
  {
   "cell_type": "code",
   "execution_count": 5,
   "metadata": {},
   "outputs": [],
   "source": [
    "te_dict = {i:list(df[\"class\"]).count(i) for i in list(df[\"class\"])}"
   ]
  },
  {
   "cell_type": "code",
   "execution_count": 6,
   "metadata": {},
   "outputs": [
    {
     "data": {
      "text/plain": [
       "{'Alu': 1042, 'PolyA': 136, 'HERV': 53, 'L1': 82, 'SVA': 19}"
      ]
     },
     "execution_count": 6,
     "metadata": {},
     "output_type": "execute_result"
    }
   ],
   "source": [
    "te_dict"
   ]
  },
  {
   "cell_type": "code",
   "execution_count": 7,
   "metadata": {},
   "outputs": [
    {
     "data": {
      "text/plain": [
       "1332"
      ]
     },
     "execution_count": 7,
     "metadata": {},
     "output_type": "execute_result"
    }
   ],
   "source": [
    "len(list(df[\"class\"]))"
   ]
  },
  {
   "cell_type": "code",
   "execution_count": 8,
   "metadata": {},
   "outputs": [],
   "source": [
    "def countFusionsFromSample(df):\n",
    "    te_dict = {i:list(df[\"class\"]).count(i) for i in list(df[\"class\"])}\n",
    "    te_dict['total']=len(list(df[\"class\"]))\n",
    "    return te_dict"
   ]
  },
  {
   "cell_type": "code",
   "execution_count": 9,
   "metadata": {},
   "outputs": [],
   "source": [
    "result_dict=countFusionsFromSample(df)"
   ]
  },
  {
   "cell_type": "code",
   "execution_count": 20,
   "metadata": {},
   "outputs": [
    {
     "name": "stdout",
     "output_type": "stream",
     "text": [
      "Collecting matplotlib\n",
      "  Downloading matplotlib-3.2.2-cp36-cp36m-macosx_10_9_x86_64.whl (12.4 MB)\n",
      "\u001b[K     |████████████████████████████████| 12.4 MB 2.8 MB/s eta 0:00:01\n",
      "\u001b[?25hRequirement already satisfied: pyparsing!=2.0.4,!=2.1.2,!=2.1.6,>=2.0.1 in /Users/junseokpark/anaconda3/envs/kubernetes/lib/python3.6/site-packages (from matplotlib) (2.4.7)\n",
      "Requirement already satisfied: numpy>=1.11 in /Users/junseokpark/anaconda3/envs/kubernetes/lib/python3.6/site-packages (from matplotlib) (1.19.0)\n",
      "Requirement already satisfied: python-dateutil>=2.1 in /Users/junseokpark/anaconda3/envs/kubernetes/lib/python3.6/site-packages (from matplotlib) (2.8.1)\n",
      "Collecting kiwisolver>=1.0.1\n",
      "  Downloading kiwisolver-1.2.0-cp36-cp36m-macosx_10_9_x86_64.whl (60 kB)\n",
      "\u001b[K     |████████████████████████████████| 60 kB 20.0 MB/s eta 0:00:01\n",
      "\u001b[?25hCollecting cycler>=0.10\n",
      "  Downloading cycler-0.10.0-py2.py3-none-any.whl (6.5 kB)\n",
      "Requirement already satisfied: six>=1.5 in /Users/junseokpark/anaconda3/envs/kubernetes/lib/python3.6/site-packages (from python-dateutil>=2.1->matplotlib) (1.14.0)\n",
      "Installing collected packages: kiwisolver, cycler, matplotlib\n",
      "Successfully installed cycler-0.10.0 kiwisolver-1.2.0 matplotlib-3.2.2\n"
     ]
    }
   ],
   "source": [
    "!pip install matplotlib"
   ]
  },
  {
   "cell_type": "code",
   "execution_count": 10,
   "metadata": {},
   "outputs": [
    {
     "ename": "ModuleNotFoundError",
     "evalue": "No module named 'matplotlib'",
     "output_type": "error",
     "traceback": [
      "\u001b[0;31m---------------------------------------------------------------------------\u001b[0m",
      "\u001b[0;31mModuleNotFoundError\u001b[0m                       Traceback (most recent call last)",
      "\u001b[0;32m<ipython-input-10-f33d2b29d6e8>\u001b[0m in \u001b[0;36m<module>\u001b[0;34m\u001b[0m\n\u001b[0;32m----> 1\u001b[0;31m \u001b[0;32mimport\u001b[0m \u001b[0mmatplotlib\u001b[0m\u001b[0;34m.\u001b[0m\u001b[0mpyplot\u001b[0m \u001b[0;32mas\u001b[0m \u001b[0mplt\u001b[0m\u001b[0;34m\u001b[0m\u001b[0;34m\u001b[0m\u001b[0m\n\u001b[0m\u001b[1;32m      2\u001b[0m \u001b[0mplt\u001b[0m\u001b[0;34m.\u001b[0m\u001b[0mbar\u001b[0m\u001b[0;34m(\u001b[0m\u001b[0;34m*\u001b[0m\u001b[0mzip\u001b[0m\u001b[0;34m(\u001b[0m\u001b[0;34m*\u001b[0m\u001b[0mresult_dict\u001b[0m\u001b[0;34m.\u001b[0m\u001b[0mitems\u001b[0m\u001b[0;34m(\u001b[0m\u001b[0;34m)\u001b[0m\u001b[0;34m)\u001b[0m\u001b[0;34m)\u001b[0m\u001b[0;34m\u001b[0m\u001b[0;34m\u001b[0m\u001b[0m\n\u001b[1;32m      3\u001b[0m \u001b[0mplt\u001b[0m\u001b[0;34m.\u001b[0m\u001b[0mshow\u001b[0m\u001b[0;34m(\u001b[0m\u001b[0;34m)\u001b[0m\u001b[0;34m\u001b[0m\u001b[0;34m\u001b[0m\u001b[0m\n",
      "\u001b[0;31mModuleNotFoundError\u001b[0m: No module named 'matplotlib'"
     ]
    }
   ],
   "source": [
    "import matplotlib.pyplot as plt\n",
    "plt.bar(*zip(*result_dict.items()))\n",
    "plt.show()"
   ]
  },
  {
   "cell_type": "code",
   "execution_count": 47,
   "metadata": {},
   "outputs": [],
   "source": [
    "def removeDuplicateFromList(x):\n",
    "    return list(dict.fromkeys(x))"
   ]
  },
  {
   "cell_type": "code",
   "execution_count": 48,
   "metadata": {},
   "outputs": [],
   "source": [
    "from google.cloud import storage\n",
    "from tqdm import tnrange, notebook"
   ]
  },
  {
   "cell_type": "code",
   "execution_count": 49,
   "metadata": {},
   "outputs": [],
   "source": [
    "def checkFileExistFromBucket(bucketName,sourcePrefix,fileName):\n",
    "    client = storage.Client()\n",
    "    bucket = client.get_bucket(bucketName)\n",
    "    blobs = bucket.list_blobs(prefix=sourcePrefix)\n",
    "    result = False\n",
    "\n",
    "    for blob in blobs:\n",
    "        fileNameInBucket = blob.name.split('/')[-1]\n",
    "        #print(fileNameInBucket)\n",
    "        if fileNameInBucket == fileName:\n",
    "            result = True\n",
    "\n",
    "    return result"
   ]
  },
  {
   "cell_type": "code",
   "execution_count": 50,
   "metadata": {},
   "outputs": [],
   "source": [
    "def getListDirectoriesFromBucket(bucketName,sourcePrefix):    \n",
    "    client = storage.Client()\n",
    "    bucket = client.get_bucket(bucketName)\n",
    "    blobs = bucket.list_blobs(prefix=sourcePrefix)\n",
    "\n",
    "    result = []\n",
    "    index = 1\n",
    "    if sourcePrefix == \"\":\n",
    "        index = 0\n",
    "        sourcePrefix = \"/\"\n",
    "    \n",
    "    #for blob in notebook.tqdm(blobs, desc='searching directories of '+sourcePrefix):\n",
    "    for blob in blobs:\n",
    "        DirectoryNameInBucket = blob.name.split('/')[index]\n",
    "        #print(DirectoryNameInBucket)\n",
    "        # Check ext\n",
    "        result.append(DirectoryNameInBucket)\n",
    "\n",
    "    result = removeDuplicateFromList(result)\n",
    "    return result"
   ]
  },
  {
   "cell_type": "code",
   "execution_count": 51,
   "metadata": {},
   "outputs": [],
   "source": [
    "def downloadDirectoryFromBucket(bucketName,sourcePrefix,downloadPath):\n",
    "    client = storage.Client()\n",
    "    bucket = client.get_bucket(bucketName)\n",
    "    blobs = bucket.list_blobs(prefix=sourcePrefix)\n",
    "    if downloadPath[-1] != '/':\n",
    "        downloadPath=downloadPath+'/'\n",
    "\n",
    "    mkPath(downloadPath)\n",
    "\n",
    "    for blob in blobs:\n",
    "        filename = blob.name.split('/')[-1]\n",
    "        blob.download_to_filename(downloadPath + filename)\n",
    "        print(\n",
    "            \"Blob {} downloaded to {}. \".format(\n",
    "                filename,downloadPath+filename\n",
    "            )\n",
    "        )\n",
    "        "
   ]
  },
  {
   "cell_type": "code",
   "execution_count": 52,
   "metadata": {},
   "outputs": [],
   "source": [
    "# set credential as env\n",
    "import os\n",
    "os.environ[\"GOOGLE_APPLICATION_CREDENTIALS\"]=\"/Users/junseokpark/Dropbox/Development/IdeaProjects/TENeoantigen/rtea/kubernetes/aleelab-ten-key.json\""
   ]
  },
  {
   "cell_type": "code",
   "execution_count": 53,
   "metadata": {},
   "outputs": [
    {
     "data": {
      "text/html": [
       "<table style=\"border: 2px solid white;\">\n",
       "<tr>\n",
       "<td style=\"vertical-align: top; border: 0px solid white\">\n",
       "<h3 style=\"text-align: left;\">Client</h3>\n",
       "<ul style=\"text-align: left; list-style: none; margin: 0; padding: 0;\">\n",
       "  <li><b>Scheduler: </b>tcp://127.0.0.1:50679</li>\n",
       "  <li><b>Dashboard: </b><a href='http://127.0.0.1:8787/status' target='_blank'>http://127.0.0.1:8787/status</a></li>\n",
       "</ul>\n",
       "</td>\n",
       "<td style=\"vertical-align: top; border: 0px solid white\">\n",
       "<h3 style=\"text-align: left;\">Cluster</h3>\n",
       "<ul style=\"text-align: left; list-style:none; margin: 0; padding: 0;\">\n",
       "  <li><b>Workers: </b>3</li>\n",
       "  <li><b>Cores: </b>6</li>\n",
       "  <li><b>Memory: </b>68.72 GB</li>\n",
       "</ul>\n",
       "</td>\n",
       "</tr>\n",
       "</table>"
      ],
      "text/plain": [
       "<Client: 'tcp://127.0.0.1:50679' processes=3 threads=6, memory=68.72 GB>"
      ]
     },
     "execution_count": 53,
     "metadata": {},
     "output_type": "execute_result"
    }
   ],
   "source": [
    "from dask.distributed import Client, LocalCluster\n",
    "cluster = LocalCluster()\n",
    "client = Client(cluster)\n",
    "client\n",
    "\n",
    "#from dask.distributed import Client, progress\n",
    "#client = Client(threads_per_worker=4, n_workers=1, scheduler_port=8786)\n",
    "#client"
   ]
  },
  {
   "cell_type": "code",
   "execution_count": 54,
   "metadata": {},
   "outputs": [
    {
     "data": {
      "application/vnd.jupyter.widget-view+json": {
       "model_id": "74fcd09553954a98b5b9bec9b59385cb",
       "version_major": 2,
       "version_minor": 0
      },
      "text/plain": [
       "HBox(children=(FloatProgress(value=0.0, description='sampleGroups', max=30.0, style=ProgressStyle(description_…"
      ]
     },
     "metadata": {},
     "output_type": "display_data"
    },
    {
     "data": {
      "application/vnd.jupyter.widget-view+json": {
       "model_id": "553eb549549e4f39b6b5b26aff51385c",
       "version_major": 2,
       "version_minor": 0
      },
      "text/plain": [
       "HBox(children=(FloatProgress(value=0.0, description='sampleIds of ACC', max=79.0, style=ProgressStyle(descript…"
      ]
     },
     "metadata": {},
     "output_type": "display_data"
    },
    {
     "name": "stdout",
     "output_type": "stream",
     "text": [
      "\n"
     ]
    },
    {
     "data": {
      "application/vnd.jupyter.widget-view+json": {
       "model_id": "2f446332faa74dff8249e22c4be10ed9",
       "version_major": 2,
       "version_minor": 0
      },
      "text/plain": [
       "HBox(children=(FloatProgress(value=0.0, description='sampleIds of BLCA', max=433.0, style=ProgressStyle(descri…"
      ]
     },
     "metadata": {},
     "output_type": "display_data"
    },
    {
     "name": "stdout",
     "output_type": "stream",
     "text": [
      "\n"
     ]
    },
    {
     "data": {
      "application/vnd.jupyter.widget-view+json": {
       "model_id": "058ad03ea0904ba181c12a25fa04750c",
       "version_major": 2,
       "version_minor": 0
      },
      "text/plain": [
       "HBox(children=(FloatProgress(value=0.0, description='sampleIds of CESC', max=310.0, style=ProgressStyle(descri…"
      ]
     },
     "metadata": {},
     "output_type": "display_data"
    },
    {
     "name": "stdout",
     "output_type": "stream",
     "text": [
      "\n"
     ]
    },
    {
     "data": {
      "application/vnd.jupyter.widget-view+json": {
       "model_id": "088bd07d4b6546538c590dbcd18a3dd6",
       "version_major": 2,
       "version_minor": 0
      },
      "text/plain": [
       "HBox(children=(FloatProgress(value=0.0, description='sampleIds of CHOL', max=45.0, style=ProgressStyle(descrip…"
      ]
     },
     "metadata": {},
     "output_type": "display_data"
    },
    {
     "name": "stdout",
     "output_type": "stream",
     "text": [
      "\n"
     ]
    },
    {
     "data": {
      "application/vnd.jupyter.widget-view+json": {
       "model_id": "4548f09a093a412eb7efaae0ebdbf512",
       "version_major": 2,
       "version_minor": 0
      },
      "text/plain": [
       "HBox(children=(FloatProgress(value=0.0, description='sampleIds of COAD', max=521.0, style=ProgressStyle(descri…"
      ]
     },
     "metadata": {},
     "output_type": "display_data"
    },
    {
     "name": "stdout",
     "output_type": "stream",
     "text": [
      "\n"
     ]
    },
    {
     "data": {
      "application/vnd.jupyter.widget-view+json": {
       "model_id": "662be5972cec4a98a60edf757cb9f91e",
       "version_major": 2,
       "version_minor": 0
      },
      "text/plain": [
       "HBox(children=(FloatProgress(value=0.0, description='sampleIds of DLBC', max=48.0, style=ProgressStyle(descrip…"
      ]
     },
     "metadata": {},
     "output_type": "display_data"
    },
    {
     "name": "stdout",
     "output_type": "stream",
     "text": [
      "\n"
     ]
    },
    {
     "data": {
      "application/vnd.jupyter.widget-view+json": {
       "model_id": "5e90c6016a1a4d9e89dcd73f80df4b05",
       "version_major": 2,
       "version_minor": 0
      },
      "text/plain": [
       "HBox(children=(FloatProgress(value=0.0, description='sampleIds of GBM', max=174.0, style=ProgressStyle(descrip…"
      ]
     },
     "metadata": {},
     "output_type": "display_data"
    },
    {
     "name": "stdout",
     "output_type": "stream",
     "text": [
      "\n"
     ]
    },
    {
     "data": {
      "application/vnd.jupyter.widget-view+json": {
       "model_id": "bda04478a29344db8341a04d55bdeb18",
       "version_major": 2,
       "version_minor": 0
      },
      "text/plain": [
       "HBox(children=(FloatProgress(value=0.0, description='sampleIds of HNSC', max=547.0, style=ProgressStyle(descri…"
      ]
     },
     "metadata": {},
     "output_type": "display_data"
    },
    {
     "name": "stdout",
     "output_type": "stream",
     "text": [
      "\n"
     ]
    },
    {
     "data": {
      "application/vnd.jupyter.widget-view+json": {
       "model_id": "92961f75f86a4a0bb2fb79a35ea4aafa",
       "version_major": 2,
       "version_minor": 0
      },
      "text/plain": [
       "HBox(children=(FloatProgress(value=0.0, description='sampleIds of KICH', max=89.0, style=ProgressStyle(descrip…"
      ]
     },
     "metadata": {},
     "output_type": "display_data"
    },
    {
     "name": "stdout",
     "output_type": "stream",
     "text": [
      "\n"
     ]
    },
    {
     "data": {
      "application/vnd.jupyter.widget-view+json": {
       "model_id": "a4892408053f4337b600631721b0f917",
       "version_major": 2,
       "version_minor": 0
      },
      "text/plain": [
       "HBox(children=(FloatProgress(value=0.0, description='sampleIds of KIRP', max=321.0, style=ProgressStyle(descri…"
      ]
     },
     "metadata": {},
     "output_type": "display_data"
    },
    {
     "name": "stdout",
     "output_type": "stream",
     "text": [
      "\n"
     ]
    },
    {
     "data": {
      "application/vnd.jupyter.widget-view+json": {
       "model_id": "141ec1c2094a432e8c1f95f0293d095e",
       "version_major": 2,
       "version_minor": 0
      },
      "text/plain": [
       "HBox(children=(FloatProgress(value=0.0, description='sampleIds of LAML', max=151.0, style=ProgressStyle(descri…"
      ]
     },
     "metadata": {},
     "output_type": "display_data"
    },
    {
     "name": "stdout",
     "output_type": "stream",
     "text": [
      "\n"
     ]
    },
    {
     "data": {
      "application/vnd.jupyter.widget-view+json": {
       "model_id": "82e3ae2a57844381a357fbd08d7c10bf",
       "version_major": 2,
       "version_minor": 0
      },
      "text/plain": [
       "HBox(children=(FloatProgress(value=0.0, description='sampleIds of LIHC', max=424.0, style=ProgressStyle(descri…"
      ]
     },
     "metadata": {},
     "output_type": "display_data"
    },
    {
     "name": "stdout",
     "output_type": "stream",
     "text": [
      "\n"
     ]
    },
    {
     "data": {
      "application/vnd.jupyter.widget-view+json": {
       "model_id": "fb228cb08dbf488c9eeb4c55e8a2dc6c",
       "version_major": 2,
       "version_minor": 0
      },
      "text/plain": [
       "HBox(children=(FloatProgress(value=0.0, description='sampleIds of LUAD', max=596.0, style=ProgressStyle(descri…"
      ]
     },
     "metadata": {},
     "output_type": "display_data"
    },
    {
     "name": "stdout",
     "output_type": "stream",
     "text": [
      "\n"
     ]
    },
    {
     "data": {
      "application/vnd.jupyter.widget-view+json": {
       "model_id": "2e28e745a76e4937b39080aabbac8d02",
       "version_major": 2,
       "version_minor": 0
      },
      "text/plain": [
       "HBox(children=(FloatProgress(value=0.0, description='sampleIds of LUSC', max=551.0, style=ProgressStyle(descri…"
      ]
     },
     "metadata": {},
     "output_type": "display_data"
    },
    {
     "name": "stdout",
     "output_type": "stream",
     "text": [
      "\n"
     ]
    },
    {
     "data": {
      "application/vnd.jupyter.widget-view+json": {
       "model_id": "c9aec095b99d4ea5bd5c825c99499f30",
       "version_major": 2,
       "version_minor": 0
      },
      "text/plain": [
       "HBox(children=(FloatProgress(value=0.0, description='sampleIds of MESO', max=86.0, style=ProgressStyle(descrip…"
      ]
     },
     "metadata": {},
     "output_type": "display_data"
    },
    {
     "name": "stdout",
     "output_type": "stream",
     "text": [
      "\n"
     ]
    },
    {
     "data": {
      "application/vnd.jupyter.widget-view+json": {
       "model_id": "a015984dd1864c3c9b120602eb39661c",
       "version_major": 2,
       "version_minor": 0
      },
      "text/plain": [
       "HBox(children=(FloatProgress(value=0.0, description='sampleIds of OV', max=380.0, style=ProgressStyle(descript…"
      ]
     },
     "metadata": {},
     "output_type": "display_data"
    },
    {
     "name": "stdout",
     "output_type": "stream",
     "text": [
      "\n"
     ]
    },
    {
     "data": {
      "application/vnd.jupyter.widget-view+json": {
       "model_id": "fda3faa4d9384d5d90a6000a9fdcc2f2",
       "version_major": 2,
       "version_minor": 0
      },
      "text/plain": [
       "HBox(children=(FloatProgress(value=0.0, description='sampleIds of PAAD', max=182.0, style=ProgressStyle(descri…"
      ]
     },
     "metadata": {},
     "output_type": "display_data"
    },
    {
     "name": "stdout",
     "output_type": "stream",
     "text": [
      "\n"
     ]
    },
    {
     "data": {
      "application/vnd.jupyter.widget-view+json": {
       "model_id": "6fd2d92242ee457db5ffa4a836df2362",
       "version_major": 2,
       "version_minor": 0
      },
      "text/plain": [
       "HBox(children=(FloatProgress(value=0.0, description='sampleIds of PCPG', max=186.0, style=ProgressStyle(descri…"
      ]
     },
     "metadata": {},
     "output_type": "display_data"
    },
    {
     "name": "stdout",
     "output_type": "stream",
     "text": [
      "\n"
     ]
    },
    {
     "data": {
      "application/vnd.jupyter.widget-view+json": {
       "model_id": "d221908bc66e4489bf20030f66cf02a0",
       "version_major": 2,
       "version_minor": 0
      },
      "text/plain": [
       "HBox(children=(FloatProgress(value=0.0, description='sampleIds of PRAD', max=552.0, style=ProgressStyle(descri…"
      ]
     },
     "metadata": {},
     "output_type": "display_data"
    },
    {
     "name": "stdout",
     "output_type": "stream",
     "text": [
      "\n"
     ]
    },
    {
     "data": {
      "application/vnd.jupyter.widget-view+json": {
       "model_id": "6f85d313fa8d4f91a0af29603d43fefc",
       "version_major": 2,
       "version_minor": 0
      },
      "text/plain": [
       "HBox(children=(FloatProgress(value=0.0, description='sampleIds of READ', max=171.0, style=ProgressStyle(descri…"
      ]
     },
     "metadata": {},
     "output_type": "display_data"
    },
    {
     "name": "stdout",
     "output_type": "stream",
     "text": [
      "\n"
     ]
    },
    {
     "data": {
      "application/vnd.jupyter.widget-view+json": {
       "model_id": "4df8cf7173104831828404c6aeedc264",
       "version_major": 2,
       "version_minor": 0
      },
      "text/plain": [
       "HBox(children=(FloatProgress(value=0.0, description='sampleIds of SARC', max=265.0, style=ProgressStyle(descri…"
      ]
     },
     "metadata": {},
     "output_type": "display_data"
    },
    {
     "name": "stdout",
     "output_type": "stream",
     "text": [
      "\n"
     ]
    },
    {
     "data": {
      "application/vnd.jupyter.widget-view+json": {
       "model_id": "8bcd79b654014a7eac3fb6df52b3a154",
       "version_major": 2,
       "version_minor": 0
      },
      "text/plain": [
       "HBox(children=(FloatProgress(value=0.0, description='sampleIds of SKCM', max=472.0, style=ProgressStyle(descri…"
      ]
     },
     "metadata": {},
     "output_type": "display_data"
    },
    {
     "name": "stdout",
     "output_type": "stream",
     "text": [
      "\n"
     ]
    },
    {
     "data": {
      "application/vnd.jupyter.widget-view+json": {
       "model_id": "bf6c93a1ede644b49603b45891f2c006",
       "version_major": 2,
       "version_minor": 0
      },
      "text/plain": [
       "HBox(children=(FloatProgress(value=0.0, description='sampleIds of STAD', max=407.0, style=ProgressStyle(descri…"
      ]
     },
     "metadata": {},
     "output_type": "display_data"
    },
    {
     "name": "stdout",
     "output_type": "stream",
     "text": [
      "\n"
     ]
    },
    {
     "data": {
      "application/vnd.jupyter.widget-view+json": {
       "model_id": "8af94a7868934f238eaafbb841eec0f3",
       "version_major": 2,
       "version_minor": 0
      },
      "text/plain": [
       "HBox(children=(FloatProgress(value=0.0, description='sampleIds of TGCT', max=156.0, style=ProgressStyle(descri…"
      ]
     },
     "metadata": {},
     "output_type": "display_data"
    },
    {
     "name": "stdout",
     "output_type": "stream",
     "text": [
      "\n"
     ]
    },
    {
     "data": {
      "application/vnd.jupyter.widget-view+json": {
       "model_id": "eeca71de5e7240aa85ebbf12285eceb4",
       "version_major": 2,
       "version_minor": 0
      },
      "text/plain": [
       "HBox(children=(FloatProgress(value=0.0, description='sampleIds of THYM', max=121.0, style=ProgressStyle(descri…"
      ]
     },
     "metadata": {},
     "output_type": "display_data"
    },
    {
     "name": "stdout",
     "output_type": "stream",
     "text": [
      "\n"
     ]
    },
    {
     "data": {
      "application/vnd.jupyter.widget-view+json": {
       "model_id": "8b3ec1a0f3b24ae1babfc23a9118ca0a",
       "version_major": 2,
       "version_minor": 0
      },
      "text/plain": [
       "HBox(children=(FloatProgress(value=0.0, description='sampleIds of UCEC', max=588.0, style=ProgressStyle(descri…"
      ]
     },
     "metadata": {},
     "output_type": "display_data"
    },
    {
     "name": "stdout",
     "output_type": "stream",
     "text": [
      "\n"
     ]
    },
    {
     "data": {
      "application/vnd.jupyter.widget-view+json": {
       "model_id": "3d92625236d74043ba09742a87a33bde",
       "version_major": 2,
       "version_minor": 0
      },
      "text/plain": [
       "HBox(children=(FloatProgress(value=0.0, description='sampleIds of UCS', max=56.0, style=ProgressStyle(descript…"
      ]
     },
     "metadata": {},
     "output_type": "display_data"
    },
    {
     "name": "stdout",
     "output_type": "stream",
     "text": [
      "\n"
     ]
    },
    {
     "data": {
      "application/vnd.jupyter.widget-view+json": {
       "model_id": "6e22ad7a1b204687b0146544f7a54a38",
       "version_major": 2,
       "version_minor": 0
      },
      "text/plain": [
       "HBox(children=(FloatProgress(value=0.0, description='sampleIds of UVM', max=80.0, style=ProgressStyle(descript…"
      ]
     },
     "metadata": {},
     "output_type": "display_data"
    },
    {
     "name": "stdout",
     "output_type": "stream",
     "text": [
      "\n",
      "\n"
     ]
    },
    {
     "ename": "NameError",
     "evalue": "name 'countFusionsFromSample' is not defined",
     "output_type": "error",
     "traceback": [
      "\u001b[0;31m---------------------------------------------------------------------------\u001b[0m",
      "\u001b[0;31mNameError\u001b[0m                                 Traceback (most recent call last)",
      "\u001b[0;32m<ipython-input-54-e9c60e3f8427>\u001b[0m in \u001b[0;36m<module>\u001b[0;34m\u001b[0m\n\u001b[1;32m     66\u001b[0m \u001b[0;34m\u001b[0m\u001b[0m\n\u001b[1;32m     67\u001b[0m \u001b[0;31m#print(rows_list)\u001b[0m\u001b[0;34m\u001b[0m\u001b[0;34m\u001b[0m\u001b[0;34m\u001b[0m\u001b[0m\n\u001b[0;32m---> 68\u001b[0;31m \u001b[0mrows_list\u001b[0m \u001b[0;34m=\u001b[0m \u001b[0mdask\u001b[0m\u001b[0;34m.\u001b[0m\u001b[0mcompute\u001b[0m\u001b[0;34m(\u001b[0m\u001b[0;34m*\u001b[0m\u001b[0mlazy_rows_list\u001b[0m\u001b[0;34m)\u001b[0m\u001b[0;34m\u001b[0m\u001b[0;34m\u001b[0m\u001b[0m\n\u001b[0m\u001b[1;32m     69\u001b[0m \u001b[0;31m#countedDF=pd.DataFrame(rows_list)\u001b[0m\u001b[0;34m\u001b[0m\u001b[0;34m\u001b[0m\u001b[0;34m\u001b[0m\u001b[0m\n\u001b[1;32m     70\u001b[0m \u001b[0;34m\u001b[0m\u001b[0m\n",
      "\u001b[0;32m~/anaconda3/envs/kubernetes/lib/python3.6/site-packages/dask/base.py\u001b[0m in \u001b[0;36mcompute\u001b[0;34m(*args, **kwargs)\u001b[0m\n\u001b[1;32m    442\u001b[0m         \u001b[0mpostcomputes\u001b[0m\u001b[0;34m.\u001b[0m\u001b[0mappend\u001b[0m\u001b[0;34m(\u001b[0m\u001b[0mx\u001b[0m\u001b[0;34m.\u001b[0m\u001b[0m__dask_postcompute__\u001b[0m\u001b[0;34m(\u001b[0m\u001b[0;34m)\u001b[0m\u001b[0;34m)\u001b[0m\u001b[0;34m\u001b[0m\u001b[0;34m\u001b[0m\u001b[0m\n\u001b[1;32m    443\u001b[0m \u001b[0;34m\u001b[0m\u001b[0m\n\u001b[0;32m--> 444\u001b[0;31m     \u001b[0mresults\u001b[0m \u001b[0;34m=\u001b[0m \u001b[0mschedule\u001b[0m\u001b[0;34m(\u001b[0m\u001b[0mdsk\u001b[0m\u001b[0;34m,\u001b[0m \u001b[0mkeys\u001b[0m\u001b[0;34m,\u001b[0m \u001b[0;34m**\u001b[0m\u001b[0mkwargs\u001b[0m\u001b[0;34m)\u001b[0m\u001b[0;34m\u001b[0m\u001b[0;34m\u001b[0m\u001b[0m\n\u001b[0m\u001b[1;32m    445\u001b[0m     \u001b[0;32mreturn\u001b[0m \u001b[0mrepack\u001b[0m\u001b[0;34m(\u001b[0m\u001b[0;34m[\u001b[0m\u001b[0mf\u001b[0m\u001b[0;34m(\u001b[0m\u001b[0mr\u001b[0m\u001b[0;34m,\u001b[0m \u001b[0;34m*\u001b[0m\u001b[0ma\u001b[0m\u001b[0;34m)\u001b[0m \u001b[0;32mfor\u001b[0m \u001b[0mr\u001b[0m\u001b[0;34m,\u001b[0m \u001b[0;34m(\u001b[0m\u001b[0mf\u001b[0m\u001b[0;34m,\u001b[0m \u001b[0ma\u001b[0m\u001b[0;34m)\u001b[0m \u001b[0;32min\u001b[0m \u001b[0mzip\u001b[0m\u001b[0;34m(\u001b[0m\u001b[0mresults\u001b[0m\u001b[0;34m,\u001b[0m \u001b[0mpostcomputes\u001b[0m\u001b[0;34m)\u001b[0m\u001b[0;34m]\u001b[0m\u001b[0;34m)\u001b[0m\u001b[0;34m\u001b[0m\u001b[0;34m\u001b[0m\u001b[0m\n\u001b[1;32m    446\u001b[0m \u001b[0;34m\u001b[0m\u001b[0m\n",
      "\u001b[0;32m~/anaconda3/envs/kubernetes/lib/python3.6/site-packages/distributed/client.py\u001b[0m in \u001b[0;36mget\u001b[0;34m(self, dsk, keys, restrictions, loose_restrictions, resources, sync, asynchronous, direct, retries, priority, fifo_timeout, actors, **kwargs)\u001b[0m\n\u001b[1;32m   2680\u001b[0m                     \u001b[0mshould_rejoin\u001b[0m \u001b[0;34m=\u001b[0m \u001b[0;32mFalse\u001b[0m\u001b[0;34m\u001b[0m\u001b[0;34m\u001b[0m\u001b[0m\n\u001b[1;32m   2681\u001b[0m             \u001b[0;32mtry\u001b[0m\u001b[0;34m:\u001b[0m\u001b[0;34m\u001b[0m\u001b[0;34m\u001b[0m\u001b[0m\n\u001b[0;32m-> 2682\u001b[0;31m                 \u001b[0mresults\u001b[0m \u001b[0;34m=\u001b[0m \u001b[0mself\u001b[0m\u001b[0;34m.\u001b[0m\u001b[0mgather\u001b[0m\u001b[0;34m(\u001b[0m\u001b[0mpacked\u001b[0m\u001b[0;34m,\u001b[0m \u001b[0masynchronous\u001b[0m\u001b[0;34m=\u001b[0m\u001b[0masynchronous\u001b[0m\u001b[0;34m,\u001b[0m \u001b[0mdirect\u001b[0m\u001b[0;34m=\u001b[0m\u001b[0mdirect\u001b[0m\u001b[0;34m)\u001b[0m\u001b[0;34m\u001b[0m\u001b[0;34m\u001b[0m\u001b[0m\n\u001b[0m\u001b[1;32m   2683\u001b[0m             \u001b[0;32mfinally\u001b[0m\u001b[0;34m:\u001b[0m\u001b[0;34m\u001b[0m\u001b[0;34m\u001b[0m\u001b[0m\n\u001b[1;32m   2684\u001b[0m                 \u001b[0;32mfor\u001b[0m \u001b[0mf\u001b[0m \u001b[0;32min\u001b[0m \u001b[0mfutures\u001b[0m\u001b[0;34m.\u001b[0m\u001b[0mvalues\u001b[0m\u001b[0;34m(\u001b[0m\u001b[0;34m)\u001b[0m\u001b[0;34m:\u001b[0m\u001b[0;34m\u001b[0m\u001b[0;34m\u001b[0m\u001b[0m\n",
      "\u001b[0;32m~/anaconda3/envs/kubernetes/lib/python3.6/site-packages/distributed/client.py\u001b[0m in \u001b[0;36mgather\u001b[0;34m(self, futures, errors, direct, asynchronous)\u001b[0m\n\u001b[1;32m   1980\u001b[0m                 \u001b[0mdirect\u001b[0m\u001b[0;34m=\u001b[0m\u001b[0mdirect\u001b[0m\u001b[0;34m,\u001b[0m\u001b[0;34m\u001b[0m\u001b[0;34m\u001b[0m\u001b[0m\n\u001b[1;32m   1981\u001b[0m                 \u001b[0mlocal_worker\u001b[0m\u001b[0;34m=\u001b[0m\u001b[0mlocal_worker\u001b[0m\u001b[0;34m,\u001b[0m\u001b[0;34m\u001b[0m\u001b[0;34m\u001b[0m\u001b[0m\n\u001b[0;32m-> 1982\u001b[0;31m                 \u001b[0masynchronous\u001b[0m\u001b[0;34m=\u001b[0m\u001b[0masynchronous\u001b[0m\u001b[0;34m,\u001b[0m\u001b[0;34m\u001b[0m\u001b[0;34m\u001b[0m\u001b[0m\n\u001b[0m\u001b[1;32m   1983\u001b[0m             )\n\u001b[1;32m   1984\u001b[0m \u001b[0;34m\u001b[0m\u001b[0m\n",
      "\u001b[0;32m~/anaconda3/envs/kubernetes/lib/python3.6/site-packages/distributed/client.py\u001b[0m in \u001b[0;36msync\u001b[0;34m(self, func, asynchronous, callback_timeout, *args, **kwargs)\u001b[0m\n\u001b[1;32m    830\u001b[0m         \u001b[0;32melse\u001b[0m\u001b[0;34m:\u001b[0m\u001b[0;34m\u001b[0m\u001b[0;34m\u001b[0m\u001b[0m\n\u001b[1;32m    831\u001b[0m             return sync(\n\u001b[0;32m--> 832\u001b[0;31m                 \u001b[0mself\u001b[0m\u001b[0;34m.\u001b[0m\u001b[0mloop\u001b[0m\u001b[0;34m,\u001b[0m \u001b[0mfunc\u001b[0m\u001b[0;34m,\u001b[0m \u001b[0;34m*\u001b[0m\u001b[0margs\u001b[0m\u001b[0;34m,\u001b[0m \u001b[0mcallback_timeout\u001b[0m\u001b[0;34m=\u001b[0m\u001b[0mcallback_timeout\u001b[0m\u001b[0;34m,\u001b[0m \u001b[0;34m**\u001b[0m\u001b[0mkwargs\u001b[0m\u001b[0;34m\u001b[0m\u001b[0;34m\u001b[0m\u001b[0m\n\u001b[0m\u001b[1;32m    833\u001b[0m             )\n\u001b[1;32m    834\u001b[0m \u001b[0;34m\u001b[0m\u001b[0m\n",
      "\u001b[0;32m~/anaconda3/envs/kubernetes/lib/python3.6/site-packages/distributed/utils.py\u001b[0m in \u001b[0;36msync\u001b[0;34m(loop, func, callback_timeout, *args, **kwargs)\u001b[0m\n\u001b[1;32m    337\u001b[0m     \u001b[0;32mif\u001b[0m \u001b[0merror\u001b[0m\u001b[0;34m[\u001b[0m\u001b[0;36m0\u001b[0m\u001b[0;34m]\u001b[0m\u001b[0;34m:\u001b[0m\u001b[0;34m\u001b[0m\u001b[0;34m\u001b[0m\u001b[0m\n\u001b[1;32m    338\u001b[0m         \u001b[0mtyp\u001b[0m\u001b[0;34m,\u001b[0m \u001b[0mexc\u001b[0m\u001b[0;34m,\u001b[0m \u001b[0mtb\u001b[0m \u001b[0;34m=\u001b[0m \u001b[0merror\u001b[0m\u001b[0;34m[\u001b[0m\u001b[0;36m0\u001b[0m\u001b[0;34m]\u001b[0m\u001b[0;34m\u001b[0m\u001b[0;34m\u001b[0m\u001b[0m\n\u001b[0;32m--> 339\u001b[0;31m         \u001b[0;32mraise\u001b[0m \u001b[0mexc\u001b[0m\u001b[0;34m.\u001b[0m\u001b[0mwith_traceback\u001b[0m\u001b[0;34m(\u001b[0m\u001b[0mtb\u001b[0m\u001b[0;34m)\u001b[0m\u001b[0;34m\u001b[0m\u001b[0;34m\u001b[0m\u001b[0m\n\u001b[0m\u001b[1;32m    340\u001b[0m     \u001b[0;32melse\u001b[0m\u001b[0;34m:\u001b[0m\u001b[0;34m\u001b[0m\u001b[0;34m\u001b[0m\u001b[0m\n\u001b[1;32m    341\u001b[0m         \u001b[0;32mreturn\u001b[0m \u001b[0mresult\u001b[0m\u001b[0;34m[\u001b[0m\u001b[0;36m0\u001b[0m\u001b[0;34m]\u001b[0m\u001b[0;34m\u001b[0m\u001b[0;34m\u001b[0m\u001b[0m\n",
      "\u001b[0;32m~/anaconda3/envs/kubernetes/lib/python3.6/site-packages/distributed/utils.py\u001b[0m in \u001b[0;36mf\u001b[0;34m()\u001b[0m\n\u001b[1;32m    321\u001b[0m             \u001b[0;32mif\u001b[0m \u001b[0mcallback_timeout\u001b[0m \u001b[0;32mis\u001b[0m \u001b[0;32mnot\u001b[0m \u001b[0;32mNone\u001b[0m\u001b[0;34m:\u001b[0m\u001b[0;34m\u001b[0m\u001b[0;34m\u001b[0m\u001b[0m\n\u001b[1;32m    322\u001b[0m                 \u001b[0mfuture\u001b[0m \u001b[0;34m=\u001b[0m \u001b[0masyncio\u001b[0m\u001b[0;34m.\u001b[0m\u001b[0mwait_for\u001b[0m\u001b[0;34m(\u001b[0m\u001b[0mfuture\u001b[0m\u001b[0;34m,\u001b[0m \u001b[0mcallback_timeout\u001b[0m\u001b[0;34m)\u001b[0m\u001b[0;34m\u001b[0m\u001b[0;34m\u001b[0m\u001b[0m\n\u001b[0;32m--> 323\u001b[0;31m             \u001b[0mresult\u001b[0m\u001b[0;34m[\u001b[0m\u001b[0;36m0\u001b[0m\u001b[0;34m]\u001b[0m \u001b[0;34m=\u001b[0m \u001b[0;32myield\u001b[0m \u001b[0mfuture\u001b[0m\u001b[0;34m\u001b[0m\u001b[0;34m\u001b[0m\u001b[0m\n\u001b[0m\u001b[1;32m    324\u001b[0m         \u001b[0;32mexcept\u001b[0m \u001b[0mException\u001b[0m \u001b[0;32mas\u001b[0m \u001b[0mexc\u001b[0m\u001b[0;34m:\u001b[0m\u001b[0;34m\u001b[0m\u001b[0;34m\u001b[0m\u001b[0m\n\u001b[1;32m    325\u001b[0m             \u001b[0merror\u001b[0m\u001b[0;34m[\u001b[0m\u001b[0;36m0\u001b[0m\u001b[0;34m]\u001b[0m \u001b[0;34m=\u001b[0m \u001b[0msys\u001b[0m\u001b[0;34m.\u001b[0m\u001b[0mexc_info\u001b[0m\u001b[0;34m(\u001b[0m\u001b[0;34m)\u001b[0m\u001b[0;34m\u001b[0m\u001b[0;34m\u001b[0m\u001b[0m\n",
      "\u001b[0;32m~/anaconda3/envs/kubernetes/lib/python3.6/site-packages/tornado/gen.py\u001b[0m in \u001b[0;36mrun\u001b[0;34m(self)\u001b[0m\n\u001b[1;32m    733\u001b[0m \u001b[0;34m\u001b[0m\u001b[0m\n\u001b[1;32m    734\u001b[0m                     \u001b[0;32mtry\u001b[0m\u001b[0;34m:\u001b[0m\u001b[0;34m\u001b[0m\u001b[0;34m\u001b[0m\u001b[0m\n\u001b[0;32m--> 735\u001b[0;31m                         \u001b[0mvalue\u001b[0m \u001b[0;34m=\u001b[0m \u001b[0mfuture\u001b[0m\u001b[0;34m.\u001b[0m\u001b[0mresult\u001b[0m\u001b[0;34m(\u001b[0m\u001b[0;34m)\u001b[0m\u001b[0;34m\u001b[0m\u001b[0;34m\u001b[0m\u001b[0m\n\u001b[0m\u001b[1;32m    736\u001b[0m                     \u001b[0;32mexcept\u001b[0m \u001b[0mException\u001b[0m\u001b[0;34m:\u001b[0m\u001b[0;34m\u001b[0m\u001b[0;34m\u001b[0m\u001b[0m\n\u001b[1;32m    737\u001b[0m                         \u001b[0mexc_info\u001b[0m \u001b[0;34m=\u001b[0m \u001b[0msys\u001b[0m\u001b[0;34m.\u001b[0m\u001b[0mexc_info\u001b[0m\u001b[0;34m(\u001b[0m\u001b[0;34m)\u001b[0m\u001b[0;34m\u001b[0m\u001b[0;34m\u001b[0m\u001b[0m\n",
      "\u001b[0;32m~/anaconda3/envs/kubernetes/lib/python3.6/site-packages/distributed/client.py\u001b[0m in \u001b[0;36m_gather\u001b[0;34m(self, futures, errors, direct, local_worker)\u001b[0m\n\u001b[1;32m   1839\u001b[0m                             \u001b[0mexc\u001b[0m \u001b[0;34m=\u001b[0m \u001b[0mCancelledError\u001b[0m\u001b[0;34m(\u001b[0m\u001b[0mkey\u001b[0m\u001b[0;34m)\u001b[0m\u001b[0;34m\u001b[0m\u001b[0;34m\u001b[0m\u001b[0m\n\u001b[1;32m   1840\u001b[0m                         \u001b[0;32melse\u001b[0m\u001b[0;34m:\u001b[0m\u001b[0;34m\u001b[0m\u001b[0;34m\u001b[0m\u001b[0m\n\u001b[0;32m-> 1841\u001b[0;31m                             \u001b[0;32mraise\u001b[0m \u001b[0mexception\u001b[0m\u001b[0;34m.\u001b[0m\u001b[0mwith_traceback\u001b[0m\u001b[0;34m(\u001b[0m\u001b[0mtraceback\u001b[0m\u001b[0;34m)\u001b[0m\u001b[0;34m\u001b[0m\u001b[0;34m\u001b[0m\u001b[0m\n\u001b[0m\u001b[1;32m   1842\u001b[0m                         \u001b[0;32mraise\u001b[0m \u001b[0mexc\u001b[0m\u001b[0;34m\u001b[0m\u001b[0;34m\u001b[0m\u001b[0m\n\u001b[1;32m   1843\u001b[0m                     \u001b[0;32mif\u001b[0m \u001b[0merrors\u001b[0m \u001b[0;34m==\u001b[0m \u001b[0;34m\"skip\"\u001b[0m\u001b[0;34m:\u001b[0m\u001b[0;34m\u001b[0m\u001b[0;34m\u001b[0m\u001b[0m\n",
      "\u001b[0;32m<ipython-input-54-e9c60e3f8427>\u001b[0m in \u001b[0;36mgetSampleResultDict\u001b[0;34m()\u001b[0m\n\u001b[1;32m     30\u001b[0m             \u001b[0mresult_dict\u001b[0m\u001b[0;34m[\u001b[0m\u001b[0;34m\"sampleId\"\u001b[0m\u001b[0;34m]\u001b[0m\u001b[0;34m=\u001b[0m\u001b[0msampleId\u001b[0m\u001b[0;34m\u001b[0m\u001b[0;34m\u001b[0m\u001b[0m\n\u001b[1;32m     31\u001b[0m             \u001b[0mresult_dict\u001b[0m\u001b[0;34m[\u001b[0m\u001b[0;34m\"sampleGroup\"\u001b[0m\u001b[0;34m]\u001b[0m\u001b[0;34m=\u001b[0m\u001b[0msampleGroup\u001b[0m\u001b[0;34m\u001b[0m\u001b[0;34m\u001b[0m\u001b[0m\n\u001b[0;32m---> 32\u001b[0;31m             \u001b[0mresult_dict\u001b[0m\u001b[0;34m.\u001b[0m\u001b[0mupdate\u001b[0m\u001b[0;34m(\u001b[0m\u001b[0mcountFusionsFromSample\u001b[0m\u001b[0;34m(\u001b[0m\u001b[0msource_df\u001b[0m\u001b[0;34m)\u001b[0m\u001b[0;34m)\u001b[0m\u001b[0;34m\u001b[0m\u001b[0;34m\u001b[0m\u001b[0m\n\u001b[0m\u001b[1;32m     33\u001b[0m \u001b[0;34m\u001b[0m\u001b[0m\n\u001b[1;32m     34\u001b[0m     \u001b[0;32mreturn\u001b[0m \u001b[0mresult_dict\u001b[0m\u001b[0;34m\u001b[0m\u001b[0;34m\u001b[0m\u001b[0m\n",
      "\u001b[0;31mNameError\u001b[0m: name 'countFusionsFromSample' is not defined"
     ]
    }
   ],
   "source": [
    "def getSampleResultDict(bucketName,sampleGroup,sampleId):\n",
    "    result_dict ={}\n",
    "    check = checkFileExistFromBucket(bucketName,sampleGroup+\"/\"+sampleId,sampleId+\".rtea.txt\") \n",
    "        \n",
    "    if check:\n",
    "\n",
    "        #print(sampleId)\n",
    "        #resultCounts=resultCounts+1\n",
    "        #rowNum = rowNum+1\n",
    "\n",
    "        source_df = pd.read_csv('gs://'+bucketName+'/'+sampleGroup+'/'+sampleId+'/'+sampleId+\".rtea.txt\", sep='\\t')\n",
    "\n",
    "        # Filters\n",
    "        # (1) Fusion Type (Omitted)\n",
    "        # (2) Txbiotype = protein_coding\n",
    "        if 'fusion_tx_biotype' in source_df.columns:\n",
    "            source_df.rename(columns = {'fusion_tx_biotype':'tx_biotype'}, inplace=True)\n",
    "\n",
    "\n",
    "        source_df = source_df[source_df['tx_biotype'].str.contains(\"protein_coding\", na=False)]\n",
    "        # (3) Filter = PASS\n",
    "        source_df = source_df[source_df['Filter'].str.contains(\"PASS\", na=False)]\n",
    "        \n",
    "        # Location Processing(?)\n",
    "        \n",
    "        # Other matrix values from here\n",
    "        \n",
    "\n",
    "        if len(source_df) > 0:\n",
    "            result_dict[\"sampleId\"]=sampleId\n",
    "            result_dict[\"sampleGroup\"]=sampleGroup\n",
    "            result_dict.update(countFusionsFromSample(source_df))\n",
    "            \n",
    "    return result_dict\n",
    "\n",
    "\n",
    "\n",
    "#sampleGroups = [\"COAD\",\"READ\",\"STAD\"]\n",
    "import dask\n",
    "\n",
    "bucketName=\"aleelab-ten-tcga-results\"\n",
    "#sampleGroups = [\"COAD\"]\n",
    "future_sampleGroups=client.submit(getListDirectoriesFromBucket, bucketName, \"\")\n",
    "sampleGroups = client.gather(future_sampleGroups)\n",
    "\n",
    "\n",
    "lazy_rows_list = []\n",
    "for sampleGroup in notebook.tqdm(sampleGroups, desc='sampleGroups'):\n",
    "    \n",
    "    if sampleGroup == 'ESCA-recovery' or sampleGroup == 'test':\n",
    "        continue\n",
    "    \n",
    "    #sampleIds = getListDirectoriesFromBucket(bucketName, sampleGroup)\n",
    "    \n",
    "    future_sampleIds = client.submit(getListDirectoriesFromBucket, bucketName, sampleGroup)\n",
    "    sampleIds = client.gather(future_sampleIds)\n",
    "    \n",
    "    #print(len(sampleIds))\n",
    "    resultCounts=0\n",
    "    for sampleId in notebook.tqdm(sampleIds, desc='sampleIds of '+sampleGroup):\n",
    "\n",
    "        lazy_dict = dask.delayed(getSampleResultDict)(bucketName,sampleGroup,sampleId)\n",
    "        #if len(lazy_dict) > 0:\n",
    "        lazy_rows_list.append(lazy_dict)\n",
    "        \n",
    "\n",
    "#print(rows_list)\n",
    "rows_list = dask.compute(*lazy_rows_list)\n",
    "#countedDF=pd.DataFrame(rows_list)\n",
    "\n"
   ]
  },
  {
   "cell_type": "code",
   "execution_count": 56,
   "metadata": {},
   "outputs": [
    {
     "ename": "NameError",
     "evalue": "name 'rows_list' is not defined",
     "output_type": "error",
     "traceback": [
      "\u001b[0;31m---------------------------------------------------------------------------\u001b[0m",
      "\u001b[0;31mNameError\u001b[0m                                 Traceback (most recent call last)",
      "\u001b[0;32m<ipython-input-56-d6951ee13f08>\u001b[0m in \u001b[0;36m<module>\u001b[0;34m\u001b[0m\n\u001b[0;32m----> 1\u001b[0;31m \u001b[0mrows_list\u001b[0m\u001b[0;34m\u001b[0m\u001b[0;34m\u001b[0m\u001b[0m\n\u001b[0m",
      "\u001b[0;31mNameError\u001b[0m: name 'rows_list' is not defined"
     ]
    }
   ],
   "source": [
    "rows_list"
   ]
  },
  {
   "cell_type": "code",
   "execution_count": 55,
   "metadata": {},
   "outputs": [
    {
     "ename": "NameError",
     "evalue": "name 'rows_list' is not defined",
     "output_type": "error",
     "traceback": [
      "\u001b[0;31m---------------------------------------------------------------------------\u001b[0m",
      "\u001b[0;31mNameError\u001b[0m                                 Traceback (most recent call last)",
      "\u001b[0;32m<ipython-input-55-6721336c60c4>\u001b[0m in \u001b[0;36m<module>\u001b[0;34m\u001b[0m\n\u001b[0;32m----> 1\u001b[0;31m \u001b[0mresult_rows\u001b[0m \u001b[0;34m=\u001b[0m \u001b[0mfilter\u001b[0m\u001b[0;34m(\u001b[0m\u001b[0;32mNone\u001b[0m\u001b[0;34m,\u001b[0m\u001b[0mrows_list\u001b[0m\u001b[0;34m)\u001b[0m\u001b[0;34m\u001b[0m\u001b[0;34m\u001b[0m\u001b[0m\n\u001b[0m",
      "\u001b[0;31mNameError\u001b[0m: name 'rows_list' is not defined"
     ]
    }
   ],
   "source": [
    "result_rows = filter(None,rows_list)"
   ]
  },
  {
   "cell_type": "code",
   "execution_count": 37,
   "metadata": {},
   "outputs": [
    {
     "data": {
      "text/plain": [
       "<filter at 0x7fddc143ae48>"
      ]
     },
     "execution_count": 37,
     "metadata": {},
     "output_type": "execute_result"
    }
   ],
   "source": [
    "result_rows"
   ]
  },
  {
   "cell_type": "code",
   "execution_count": 38,
   "metadata": {},
   "outputs": [],
   "source": [
    "countedDF=pd.DataFrame(result_rows)"
   ]
  },
  {
   "cell_type": "code",
   "execution_count": 42,
   "metadata": {},
   "outputs": [],
   "source": [
    "countedDF=countedDF.fillna(0)"
   ]
  },
  {
   "cell_type": "code",
   "execution_count": 44,
   "metadata": {},
   "outputs": [],
   "source": [
    "countedDF.to_csv('sampleResults-20200715.csv',header=True)"
   ]
  },
  {
   "cell_type": "code",
   "execution_count": 2,
   "metadata": {},
   "outputs": [],
   "source": [
    "countedDF = pd.read_csv('sampleResults-20200715.csv')"
   ]
  },
  {
   "cell_type": "code",
   "execution_count": 3,
   "metadata": {},
   "outputs": [
    {
     "data": {
      "text/html": [
       "<div>\n",
       "<style scoped>\n",
       "    .dataframe tbody tr th:only-of-type {\n",
       "        vertical-align: middle;\n",
       "    }\n",
       "\n",
       "    .dataframe tbody tr th {\n",
       "        vertical-align: top;\n",
       "    }\n",
       "\n",
       "    .dataframe thead th {\n",
       "        text-align: right;\n",
       "    }\n",
       "</style>\n",
       "<table border=\"1\" class=\"dataframe\">\n",
       "  <thead>\n",
       "    <tr style=\"text-align: right;\">\n",
       "      <th></th>\n",
       "      <th>Unnamed: 0</th>\n",
       "      <th>sampleId</th>\n",
       "      <th>sampleGroup</th>\n",
       "      <th>SVA</th>\n",
       "      <th>Alu</th>\n",
       "      <th>HERV</th>\n",
       "      <th>PolyA</th>\n",
       "      <th>total</th>\n",
       "      <th>L1</th>\n",
       "    </tr>\n",
       "  </thead>\n",
       "  <tbody>\n",
       "    <tr>\n",
       "      <th>0</th>\n",
       "      <td>0</td>\n",
       "      <td>06ebee53-f158-49d7-baf2-6910780f023b</td>\n",
       "      <td>ACC</td>\n",
       "      <td>1.0</td>\n",
       "      <td>5.0</td>\n",
       "      <td>1.0</td>\n",
       "      <td>1.0</td>\n",
       "      <td>8</td>\n",
       "      <td>0.0</td>\n",
       "    </tr>\n",
       "    <tr>\n",
       "      <th>1</th>\n",
       "      <td>1</td>\n",
       "      <td>0820ab39-407d-4326-8482-9c0c0fcc66f6</td>\n",
       "      <td>ACC</td>\n",
       "      <td>1.0</td>\n",
       "      <td>7.0</td>\n",
       "      <td>0.0</td>\n",
       "      <td>1.0</td>\n",
       "      <td>11</td>\n",
       "      <td>2.0</td>\n",
       "    </tr>\n",
       "    <tr>\n",
       "      <th>2</th>\n",
       "      <td>2</td>\n",
       "      <td>084af283-eb9b-4327-add2-04227e78aff9</td>\n",
       "      <td>ACC</td>\n",
       "      <td>5.0</td>\n",
       "      <td>24.0</td>\n",
       "      <td>1.0</td>\n",
       "      <td>0.0</td>\n",
       "      <td>30</td>\n",
       "      <td>0.0</td>\n",
       "    </tr>\n",
       "    <tr>\n",
       "      <th>3</th>\n",
       "      <td>3</td>\n",
       "      <td>0cbbae7f-c50f-43ed-8b3e-da334238a5bb</td>\n",
       "      <td>ACC</td>\n",
       "      <td>2.0</td>\n",
       "      <td>18.0</td>\n",
       "      <td>2.0</td>\n",
       "      <td>0.0</td>\n",
       "      <td>22</td>\n",
       "      <td>0.0</td>\n",
       "    </tr>\n",
       "    <tr>\n",
       "      <th>4</th>\n",
       "      <td>4</td>\n",
       "      <td>0ecde3de-4840-4090-9041-201e9d8bd162</td>\n",
       "      <td>ACC</td>\n",
       "      <td>0.0</td>\n",
       "      <td>2.0</td>\n",
       "      <td>0.0</td>\n",
       "      <td>0.0</td>\n",
       "      <td>2</td>\n",
       "      <td>0.0</td>\n",
       "    </tr>\n",
       "  </tbody>\n",
       "</table>\n",
       "</div>"
      ],
      "text/plain": [
       "   Unnamed: 0                              sampleId sampleGroup  SVA   Alu  \\\n",
       "0           0  06ebee53-f158-49d7-baf2-6910780f023b         ACC  1.0   5.0   \n",
       "1           1  0820ab39-407d-4326-8482-9c0c0fcc66f6         ACC  1.0   7.0   \n",
       "2           2  084af283-eb9b-4327-add2-04227e78aff9         ACC  5.0  24.0   \n",
       "3           3  0cbbae7f-c50f-43ed-8b3e-da334238a5bb         ACC  2.0  18.0   \n",
       "4           4  0ecde3de-4840-4090-9041-201e9d8bd162         ACC  0.0   2.0   \n",
       "\n",
       "   HERV  PolyA  total   L1  \n",
       "0   1.0    1.0      8  0.0  \n",
       "1   0.0    1.0     11  2.0  \n",
       "2   1.0    0.0     30  0.0  \n",
       "3   2.0    0.0     22  0.0  \n",
       "4   0.0    0.0      2  0.0  "
      ]
     },
     "execution_count": 3,
     "metadata": {},
     "output_type": "execute_result"
    }
   ],
   "source": [
    "countedDF.head()"
   ]
  },
  {
   "cell_type": "code",
   "execution_count": 4,
   "metadata": {},
   "outputs": [],
   "source": [
    "import seaborn as sns\n",
    "import matplotlib.pyplot as plt"
   ]
  },
  {
   "cell_type": "code",
   "execution_count": 60,
   "metadata": {},
   "outputs": [
    {
     "name": "stdout",
     "output_type": "stream",
     "text": [
      "Collecting seaborn\n",
      "  Downloading seaborn-0.10.1-py3-none-any.whl (215 kB)\n",
      "\u001b[K     |████████████████████████████████| 215 kB 5.9 MB/s eta 0:00:01\n",
      "\u001b[?25hRequirement already satisfied: pandas>=0.22.0 in /Users/junseokpark/anaconda3/envs/kubernetes/lib/python3.6/site-packages (from seaborn) (1.0.5)\n",
      "Requirement already satisfied: numpy>=1.13.3 in /Users/junseokpark/anaconda3/envs/kubernetes/lib/python3.6/site-packages (from seaborn) (1.19.0)\n",
      "Collecting scipy>=1.0.1\n",
      "  Downloading scipy-1.5.1-cp36-cp36m-macosx_10_9_x86_64.whl (28.8 MB)\n",
      "\u001b[K     |████████████████████████████████| 28.8 MB 21.0 MB/s eta 0:00:01\n",
      "\u001b[?25hCollecting matplotlib>=2.1.2\n",
      "  Downloading matplotlib-3.2.2-cp36-cp36m-macosx_10_9_x86_64.whl (12.4 MB)\n",
      "\u001b[K     |████████████████████████████████| 12.4 MB 18.1 MB/s eta 0:00:01\n",
      "\u001b[?25hRequirement already satisfied: python-dateutil>=2.6.1 in /Users/junseokpark/anaconda3/envs/kubernetes/lib/python3.6/site-packages (from pandas>=0.22.0->seaborn) (2.8.1)\n",
      "Requirement already satisfied: pytz>=2017.2 in /Users/junseokpark/anaconda3/envs/kubernetes/lib/python3.6/site-packages (from pandas>=0.22.0->seaborn) (2020.1)\n",
      "Requirement already satisfied: pyparsing!=2.0.4,!=2.1.2,!=2.1.6,>=2.0.1 in /Users/junseokpark/anaconda3/envs/kubernetes/lib/python3.6/site-packages (from matplotlib>=2.1.2->seaborn) (2.4.7)\n",
      "Collecting cycler>=0.10\n",
      "  Downloading cycler-0.10.0-py2.py3-none-any.whl (6.5 kB)\n",
      "Collecting kiwisolver>=1.0.1\n",
      "  Downloading kiwisolver-1.2.0-cp36-cp36m-macosx_10_9_x86_64.whl (60 kB)\n",
      "\u001b[K     |████████████████████████████████| 60 kB 18.4 MB/s eta 0:00:01\n",
      "\u001b[?25hRequirement already satisfied: six>=1.5 in /Users/junseokpark/anaconda3/envs/kubernetes/lib/python3.6/site-packages (from python-dateutil>=2.6.1->pandas>=0.22.0->seaborn) (1.15.0)\n",
      "Installing collected packages: scipy, cycler, kiwisolver, matplotlib, seaborn\n",
      "Successfully installed cycler-0.10.0 kiwisolver-1.2.0 matplotlib-3.2.2 scipy-1.5.1 seaborn-0.10.1\n"
     ]
    }
   ],
   "source": [
    "!pip install seaborn"
   ]
  },
  {
   "cell_type": "code",
   "execution_count": 5,
   "metadata": {},
   "outputs": [],
   "source": [
    "countedDFSub = countedDF[[\"sampleGroup\",\"SVA\",\"Alu\",\"HERV\",\"PolyA\",\"total\",\"L1\"]]"
   ]
  },
  {
   "cell_type": "code",
   "execution_count": 6,
   "metadata": {},
   "outputs": [
    {
     "data": {
      "text/html": [
       "<div>\n",
       "<style scoped>\n",
       "    .dataframe tbody tr th:only-of-type {\n",
       "        vertical-align: middle;\n",
       "    }\n",
       "\n",
       "    .dataframe tbody tr th {\n",
       "        vertical-align: top;\n",
       "    }\n",
       "\n",
       "    .dataframe thead tr th {\n",
       "        text-align: left;\n",
       "    }\n",
       "\n",
       "    .dataframe thead tr:last-of-type th {\n",
       "        text-align: right;\n",
       "    }\n",
       "</style>\n",
       "<table border=\"1\" class=\"dataframe\">\n",
       "  <thead>\n",
       "    <tr>\n",
       "      <th></th>\n",
       "      <th>SVA</th>\n",
       "      <th>Alu</th>\n",
       "      <th>HERV</th>\n",
       "      <th>PolyA</th>\n",
       "      <th>total</th>\n",
       "      <th>L1</th>\n",
       "    </tr>\n",
       "    <tr>\n",
       "      <th></th>\n",
       "      <th>mean</th>\n",
       "      <th>mean</th>\n",
       "      <th>mean</th>\n",
       "      <th>mean</th>\n",
       "      <th>mean</th>\n",
       "      <th>mean</th>\n",
       "    </tr>\n",
       "    <tr>\n",
       "      <th>sampleGroup</th>\n",
       "      <th></th>\n",
       "      <th></th>\n",
       "      <th></th>\n",
       "      <th></th>\n",
       "      <th></th>\n",
       "      <th></th>\n",
       "    </tr>\n",
       "  </thead>\n",
       "  <tbody>\n",
       "    <tr>\n",
       "      <th>ACC</th>\n",
       "      <td>1.125000</td>\n",
       "      <td>14.984375</td>\n",
       "      <td>1.328125</td>\n",
       "      <td>0.515625</td>\n",
       "      <td>18.406250</td>\n",
       "      <td>0.453125</td>\n",
       "    </tr>\n",
       "    <tr>\n",
       "      <th>BLCA</th>\n",
       "      <td>0.987469</td>\n",
       "      <td>20.528822</td>\n",
       "      <td>2.020050</td>\n",
       "      <td>0.817043</td>\n",
       "      <td>28.709273</td>\n",
       "      <td>4.355890</td>\n",
       "    </tr>\n",
       "    <tr>\n",
       "      <th>CESC</th>\n",
       "      <td>1.861210</td>\n",
       "      <td>24.822064</td>\n",
       "      <td>2.508897</td>\n",
       "      <td>1.007117</td>\n",
       "      <td>32.750890</td>\n",
       "      <td>2.551601</td>\n",
       "    </tr>\n",
       "    <tr>\n",
       "      <th>COAD</th>\n",
       "      <td>0.756923</td>\n",
       "      <td>18.630769</td>\n",
       "      <td>0.258462</td>\n",
       "      <td>0.744615</td>\n",
       "      <td>21.683077</td>\n",
       "      <td>1.292308</td>\n",
       "    </tr>\n",
       "    <tr>\n",
       "      <th>GBM</th>\n",
       "      <td>1.988372</td>\n",
       "      <td>119.319767</td>\n",
       "      <td>6.238372</td>\n",
       "      <td>2.424419</td>\n",
       "      <td>132.546512</td>\n",
       "      <td>2.575581</td>\n",
       "    </tr>\n",
       "    <tr>\n",
       "      <th>HNSC</th>\n",
       "      <td>2.737060</td>\n",
       "      <td>20.819876</td>\n",
       "      <td>2.337474</td>\n",
       "      <td>0.807453</td>\n",
       "      <td>30.751553</td>\n",
       "      <td>4.049689</td>\n",
       "    </tr>\n",
       "    <tr>\n",
       "      <th>KICH</th>\n",
       "      <td>1.519231</td>\n",
       "      <td>35.153846</td>\n",
       "      <td>3.711538</td>\n",
       "      <td>1.384615</td>\n",
       "      <td>42.500000</td>\n",
       "      <td>0.730769</td>\n",
       "    </tr>\n",
       "    <tr>\n",
       "      <th>KIRP</th>\n",
       "      <td>1.620438</td>\n",
       "      <td>24.514599</td>\n",
       "      <td>2.029197</td>\n",
       "      <td>0.828467</td>\n",
       "      <td>29.952555</td>\n",
       "      <td>0.959854</td>\n",
       "    </tr>\n",
       "    <tr>\n",
       "      <th>LAML</th>\n",
       "      <td>1.234043</td>\n",
       "      <td>33.631206</td>\n",
       "      <td>1.262411</td>\n",
       "      <td>0.843972</td>\n",
       "      <td>37.829787</td>\n",
       "      <td>0.858156</td>\n",
       "    </tr>\n",
       "    <tr>\n",
       "      <th>LIHC</th>\n",
       "      <td>0.843434</td>\n",
       "      <td>21.414141</td>\n",
       "      <td>1.555556</td>\n",
       "      <td>0.699495</td>\n",
       "      <td>26.196970</td>\n",
       "      <td>1.684343</td>\n",
       "    </tr>\n",
       "    <tr>\n",
       "      <th>LUAD</th>\n",
       "      <td>1.053360</td>\n",
       "      <td>21.452569</td>\n",
       "      <td>2.094862</td>\n",
       "      <td>0.784585</td>\n",
       "      <td>27.371542</td>\n",
       "      <td>1.986166</td>\n",
       "    </tr>\n",
       "    <tr>\n",
       "      <th>LUSC</th>\n",
       "      <td>1.823529</td>\n",
       "      <td>29.764706</td>\n",
       "      <td>2.395928</td>\n",
       "      <td>0.907240</td>\n",
       "      <td>43.065611</td>\n",
       "      <td>8.174208</td>\n",
       "    </tr>\n",
       "    <tr>\n",
       "      <th>OV</th>\n",
       "      <td>6.304469</td>\n",
       "      <td>238.818436</td>\n",
       "      <td>10.891061</td>\n",
       "      <td>10.125698</td>\n",
       "      <td>277.773743</td>\n",
       "      <td>11.634078</td>\n",
       "    </tr>\n",
       "    <tr>\n",
       "      <th>PRAD</th>\n",
       "      <td>0.890688</td>\n",
       "      <td>26.842105</td>\n",
       "      <td>2.917004</td>\n",
       "      <td>0.912955</td>\n",
       "      <td>32.445344</td>\n",
       "      <td>0.882591</td>\n",
       "    </tr>\n",
       "    <tr>\n",
       "      <th>READ</th>\n",
       "      <td>0.800000</td>\n",
       "      <td>19.305263</td>\n",
       "      <td>1.947368</td>\n",
       "      <td>0.673684</td>\n",
       "      <td>24.084211</td>\n",
       "      <td>1.357895</td>\n",
       "    </tr>\n",
       "    <tr>\n",
       "      <th>SARC</th>\n",
       "      <td>1.032787</td>\n",
       "      <td>18.836066</td>\n",
       "      <td>1.983607</td>\n",
       "      <td>0.684426</td>\n",
       "      <td>22.954918</td>\n",
       "      <td>0.418033</td>\n",
       "    </tr>\n",
       "    <tr>\n",
       "      <th>SKCM</th>\n",
       "      <td>1.448000</td>\n",
       "      <td>24.405333</td>\n",
       "      <td>1.890667</td>\n",
       "      <td>0.810667</td>\n",
       "      <td>29.448000</td>\n",
       "      <td>0.893333</td>\n",
       "    </tr>\n",
       "    <tr>\n",
       "      <th>STAD</th>\n",
       "      <td>3.515493</td>\n",
       "      <td>177.808451</td>\n",
       "      <td>6.676056</td>\n",
       "      <td>5.647887</td>\n",
       "      <td>202.369014</td>\n",
       "      <td>8.721127</td>\n",
       "    </tr>\n",
       "    <tr>\n",
       "      <th>TGCT</th>\n",
       "      <td>5.788462</td>\n",
       "      <td>22.551282</td>\n",
       "      <td>5.628205</td>\n",
       "      <td>0.878205</td>\n",
       "      <td>37.442308</td>\n",
       "      <td>2.596154</td>\n",
       "    </tr>\n",
       "    <tr>\n",
       "      <th>THYM</th>\n",
       "      <td>1.162393</td>\n",
       "      <td>25.487179</td>\n",
       "      <td>2.222222</td>\n",
       "      <td>0.811966</td>\n",
       "      <td>35.017094</td>\n",
       "      <td>5.333333</td>\n",
       "    </tr>\n",
       "    <tr>\n",
       "      <th>UCEC</th>\n",
       "      <td>1.441624</td>\n",
       "      <td>18.065990</td>\n",
       "      <td>2.619289</td>\n",
       "      <td>0.878173</td>\n",
       "      <td>24.081218</td>\n",
       "      <td>1.076142</td>\n",
       "    </tr>\n",
       "  </tbody>\n",
       "</table>\n",
       "</div>"
      ],
      "text/plain": [
       "                  SVA         Alu       HERV      PolyA       total         L1\n",
       "                 mean        mean       mean       mean        mean       mean\n",
       "sampleGroup                                                                   \n",
       "ACC          1.125000   14.984375   1.328125   0.515625   18.406250   0.453125\n",
       "BLCA         0.987469   20.528822   2.020050   0.817043   28.709273   4.355890\n",
       "CESC         1.861210   24.822064   2.508897   1.007117   32.750890   2.551601\n",
       "COAD         0.756923   18.630769   0.258462   0.744615   21.683077   1.292308\n",
       "GBM          1.988372  119.319767   6.238372   2.424419  132.546512   2.575581\n",
       "HNSC         2.737060   20.819876   2.337474   0.807453   30.751553   4.049689\n",
       "KICH         1.519231   35.153846   3.711538   1.384615   42.500000   0.730769\n",
       "KIRP         1.620438   24.514599   2.029197   0.828467   29.952555   0.959854\n",
       "LAML         1.234043   33.631206   1.262411   0.843972   37.829787   0.858156\n",
       "LIHC         0.843434   21.414141   1.555556   0.699495   26.196970   1.684343\n",
       "LUAD         1.053360   21.452569   2.094862   0.784585   27.371542   1.986166\n",
       "LUSC         1.823529   29.764706   2.395928   0.907240   43.065611   8.174208\n",
       "OV           6.304469  238.818436  10.891061  10.125698  277.773743  11.634078\n",
       "PRAD         0.890688   26.842105   2.917004   0.912955   32.445344   0.882591\n",
       "READ         0.800000   19.305263   1.947368   0.673684   24.084211   1.357895\n",
       "SARC         1.032787   18.836066   1.983607   0.684426   22.954918   0.418033\n",
       "SKCM         1.448000   24.405333   1.890667   0.810667   29.448000   0.893333\n",
       "STAD         3.515493  177.808451   6.676056   5.647887  202.369014   8.721127\n",
       "TGCT         5.788462   22.551282   5.628205   0.878205   37.442308   2.596154\n",
       "THYM         1.162393   25.487179   2.222222   0.811966   35.017094   5.333333\n",
       "UCEC         1.441624   18.065990   2.619289   0.878173   24.081218   1.076142"
      ]
     },
     "execution_count": 6,
     "metadata": {},
     "output_type": "execute_result"
    }
   ],
   "source": [
    "countedDFSub.groupby(['sampleGroup']).agg(['mean'])"
   ]
  },
  {
   "cell_type": "code",
   "execution_count": 7,
   "metadata": {},
   "outputs": [
    {
     "data": {
      "text/html": [
       "<div>\n",
       "<style scoped>\n",
       "    .dataframe tbody tr th:only-of-type {\n",
       "        vertical-align: middle;\n",
       "    }\n",
       "\n",
       "    .dataframe tbody tr th {\n",
       "        vertical-align: top;\n",
       "    }\n",
       "\n",
       "    .dataframe thead tr th {\n",
       "        text-align: left;\n",
       "    }\n",
       "\n",
       "    .dataframe thead tr:last-of-type th {\n",
       "        text-align: right;\n",
       "    }\n",
       "</style>\n",
       "<table border=\"1\" class=\"dataframe\">\n",
       "  <thead>\n",
       "    <tr>\n",
       "      <th></th>\n",
       "      <th colspan=\"3\" halign=\"left\">SVA</th>\n",
       "      <th colspan=\"3\" halign=\"left\">Alu</th>\n",
       "      <th colspan=\"3\" halign=\"left\">HERV</th>\n",
       "      <th colspan=\"3\" halign=\"left\">PolyA</th>\n",
       "      <th colspan=\"3\" halign=\"left\">total</th>\n",
       "      <th colspan=\"3\" halign=\"left\">L1</th>\n",
       "    </tr>\n",
       "    <tr>\n",
       "      <th></th>\n",
       "      <th>mean</th>\n",
       "      <th>sum</th>\n",
       "      <th>count</th>\n",
       "      <th>mean</th>\n",
       "      <th>sum</th>\n",
       "      <th>count</th>\n",
       "      <th>mean</th>\n",
       "      <th>sum</th>\n",
       "      <th>count</th>\n",
       "      <th>mean</th>\n",
       "      <th>sum</th>\n",
       "      <th>count</th>\n",
       "      <th>mean</th>\n",
       "      <th>sum</th>\n",
       "      <th>count</th>\n",
       "      <th>mean</th>\n",
       "      <th>sum</th>\n",
       "      <th>count</th>\n",
       "    </tr>\n",
       "    <tr>\n",
       "      <th>sampleGroup</th>\n",
       "      <th></th>\n",
       "      <th></th>\n",
       "      <th></th>\n",
       "      <th></th>\n",
       "      <th></th>\n",
       "      <th></th>\n",
       "      <th></th>\n",
       "      <th></th>\n",
       "      <th></th>\n",
       "      <th></th>\n",
       "      <th></th>\n",
       "      <th></th>\n",
       "      <th></th>\n",
       "      <th></th>\n",
       "      <th></th>\n",
       "      <th></th>\n",
       "      <th></th>\n",
       "      <th></th>\n",
       "    </tr>\n",
       "  </thead>\n",
       "  <tbody>\n",
       "    <tr>\n",
       "      <th>ACC</th>\n",
       "      <td>1.125000</td>\n",
       "      <td>72.0</td>\n",
       "      <td>64</td>\n",
       "      <td>14.984375</td>\n",
       "      <td>959.0</td>\n",
       "      <td>64</td>\n",
       "      <td>1.328125</td>\n",
       "      <td>85.0</td>\n",
       "      <td>64</td>\n",
       "      <td>0.515625</td>\n",
       "      <td>33.0</td>\n",
       "      <td>64</td>\n",
       "      <td>18.406250</td>\n",
       "      <td>1178</td>\n",
       "      <td>64</td>\n",
       "      <td>0.453125</td>\n",
       "      <td>29.0</td>\n",
       "      <td>64</td>\n",
       "    </tr>\n",
       "    <tr>\n",
       "      <th>BLCA</th>\n",
       "      <td>0.987469</td>\n",
       "      <td>394.0</td>\n",
       "      <td>399</td>\n",
       "      <td>20.528822</td>\n",
       "      <td>8191.0</td>\n",
       "      <td>399</td>\n",
       "      <td>2.020050</td>\n",
       "      <td>806.0</td>\n",
       "      <td>399</td>\n",
       "      <td>0.817043</td>\n",
       "      <td>326.0</td>\n",
       "      <td>399</td>\n",
       "      <td>28.709273</td>\n",
       "      <td>11455</td>\n",
       "      <td>399</td>\n",
       "      <td>4.355890</td>\n",
       "      <td>1738.0</td>\n",
       "      <td>399</td>\n",
       "    </tr>\n",
       "    <tr>\n",
       "      <th>CESC</th>\n",
       "      <td>1.861210</td>\n",
       "      <td>523.0</td>\n",
       "      <td>281</td>\n",
       "      <td>24.822064</td>\n",
       "      <td>6975.0</td>\n",
       "      <td>281</td>\n",
       "      <td>2.508897</td>\n",
       "      <td>705.0</td>\n",
       "      <td>281</td>\n",
       "      <td>1.007117</td>\n",
       "      <td>283.0</td>\n",
       "      <td>281</td>\n",
       "      <td>32.750890</td>\n",
       "      <td>9203</td>\n",
       "      <td>281</td>\n",
       "      <td>2.551601</td>\n",
       "      <td>717.0</td>\n",
       "      <td>281</td>\n",
       "    </tr>\n",
       "    <tr>\n",
       "      <th>COAD</th>\n",
       "      <td>0.756923</td>\n",
       "      <td>246.0</td>\n",
       "      <td>325</td>\n",
       "      <td>18.630769</td>\n",
       "      <td>6055.0</td>\n",
       "      <td>325</td>\n",
       "      <td>0.258462</td>\n",
       "      <td>84.0</td>\n",
       "      <td>325</td>\n",
       "      <td>0.744615</td>\n",
       "      <td>242.0</td>\n",
       "      <td>325</td>\n",
       "      <td>21.683077</td>\n",
       "      <td>7047</td>\n",
       "      <td>325</td>\n",
       "      <td>1.292308</td>\n",
       "      <td>420.0</td>\n",
       "      <td>325</td>\n",
       "    </tr>\n",
       "    <tr>\n",
       "      <th>GBM</th>\n",
       "      <td>1.988372</td>\n",
       "      <td>342.0</td>\n",
       "      <td>172</td>\n",
       "      <td>119.319767</td>\n",
       "      <td>20523.0</td>\n",
       "      <td>172</td>\n",
       "      <td>6.238372</td>\n",
       "      <td>1073.0</td>\n",
       "      <td>172</td>\n",
       "      <td>2.424419</td>\n",
       "      <td>417.0</td>\n",
       "      <td>172</td>\n",
       "      <td>132.546512</td>\n",
       "      <td>22798</td>\n",
       "      <td>172</td>\n",
       "      <td>2.575581</td>\n",
       "      <td>443.0</td>\n",
       "      <td>172</td>\n",
       "    </tr>\n",
       "    <tr>\n",
       "      <th>HNSC</th>\n",
       "      <td>2.737060</td>\n",
       "      <td>1322.0</td>\n",
       "      <td>483</td>\n",
       "      <td>20.819876</td>\n",
       "      <td>10056.0</td>\n",
       "      <td>483</td>\n",
       "      <td>2.337474</td>\n",
       "      <td>1129.0</td>\n",
       "      <td>483</td>\n",
       "      <td>0.807453</td>\n",
       "      <td>390.0</td>\n",
       "      <td>483</td>\n",
       "      <td>30.751553</td>\n",
       "      <td>14853</td>\n",
       "      <td>483</td>\n",
       "      <td>4.049689</td>\n",
       "      <td>1956.0</td>\n",
       "      <td>483</td>\n",
       "    </tr>\n",
       "    <tr>\n",
       "      <th>KICH</th>\n",
       "      <td>1.519231</td>\n",
       "      <td>79.0</td>\n",
       "      <td>52</td>\n",
       "      <td>35.153846</td>\n",
       "      <td>1828.0</td>\n",
       "      <td>52</td>\n",
       "      <td>3.711538</td>\n",
       "      <td>193.0</td>\n",
       "      <td>52</td>\n",
       "      <td>1.384615</td>\n",
       "      <td>72.0</td>\n",
       "      <td>52</td>\n",
       "      <td>42.500000</td>\n",
       "      <td>2210</td>\n",
       "      <td>52</td>\n",
       "      <td>0.730769</td>\n",
       "      <td>38.0</td>\n",
       "      <td>52</td>\n",
       "    </tr>\n",
       "    <tr>\n",
       "      <th>KIRP</th>\n",
       "      <td>1.620438</td>\n",
       "      <td>444.0</td>\n",
       "      <td>274</td>\n",
       "      <td>24.514599</td>\n",
       "      <td>6717.0</td>\n",
       "      <td>274</td>\n",
       "      <td>2.029197</td>\n",
       "      <td>556.0</td>\n",
       "      <td>274</td>\n",
       "      <td>0.828467</td>\n",
       "      <td>227.0</td>\n",
       "      <td>274</td>\n",
       "      <td>29.952555</td>\n",
       "      <td>8207</td>\n",
       "      <td>274</td>\n",
       "      <td>0.959854</td>\n",
       "      <td>263.0</td>\n",
       "      <td>274</td>\n",
       "    </tr>\n",
       "    <tr>\n",
       "      <th>LAML</th>\n",
       "      <td>1.234043</td>\n",
       "      <td>174.0</td>\n",
       "      <td>141</td>\n",
       "      <td>33.631206</td>\n",
       "      <td>4742.0</td>\n",
       "      <td>141</td>\n",
       "      <td>1.262411</td>\n",
       "      <td>178.0</td>\n",
       "      <td>141</td>\n",
       "      <td>0.843972</td>\n",
       "      <td>119.0</td>\n",
       "      <td>141</td>\n",
       "      <td>37.829787</td>\n",
       "      <td>5334</td>\n",
       "      <td>141</td>\n",
       "      <td>0.858156</td>\n",
       "      <td>121.0</td>\n",
       "      <td>141</td>\n",
       "    </tr>\n",
       "    <tr>\n",
       "      <th>LIHC</th>\n",
       "      <td>0.843434</td>\n",
       "      <td>334.0</td>\n",
       "      <td>396</td>\n",
       "      <td>21.414141</td>\n",
       "      <td>8480.0</td>\n",
       "      <td>396</td>\n",
       "      <td>1.555556</td>\n",
       "      <td>616.0</td>\n",
       "      <td>396</td>\n",
       "      <td>0.699495</td>\n",
       "      <td>277.0</td>\n",
       "      <td>396</td>\n",
       "      <td>26.196970</td>\n",
       "      <td>10374</td>\n",
       "      <td>396</td>\n",
       "      <td>1.684343</td>\n",
       "      <td>667.0</td>\n",
       "      <td>396</td>\n",
       "    </tr>\n",
       "    <tr>\n",
       "      <th>LUAD</th>\n",
       "      <td>1.053360</td>\n",
       "      <td>533.0</td>\n",
       "      <td>506</td>\n",
       "      <td>21.452569</td>\n",
       "      <td>10855.0</td>\n",
       "      <td>506</td>\n",
       "      <td>2.094862</td>\n",
       "      <td>1060.0</td>\n",
       "      <td>506</td>\n",
       "      <td>0.784585</td>\n",
       "      <td>397.0</td>\n",
       "      <td>506</td>\n",
       "      <td>27.371542</td>\n",
       "      <td>13850</td>\n",
       "      <td>506</td>\n",
       "      <td>1.986166</td>\n",
       "      <td>1005.0</td>\n",
       "      <td>506</td>\n",
       "    </tr>\n",
       "    <tr>\n",
       "      <th>LUSC</th>\n",
       "      <td>1.823529</td>\n",
       "      <td>806.0</td>\n",
       "      <td>442</td>\n",
       "      <td>29.764706</td>\n",
       "      <td>13156.0</td>\n",
       "      <td>442</td>\n",
       "      <td>2.395928</td>\n",
       "      <td>1059.0</td>\n",
       "      <td>442</td>\n",
       "      <td>0.907240</td>\n",
       "      <td>401.0</td>\n",
       "      <td>442</td>\n",
       "      <td>43.065611</td>\n",
       "      <td>19035</td>\n",
       "      <td>442</td>\n",
       "      <td>8.174208</td>\n",
       "      <td>3613.0</td>\n",
       "      <td>442</td>\n",
       "    </tr>\n",
       "    <tr>\n",
       "      <th>OV</th>\n",
       "      <td>6.304469</td>\n",
       "      <td>2257.0</td>\n",
       "      <td>358</td>\n",
       "      <td>238.818436</td>\n",
       "      <td>85497.0</td>\n",
       "      <td>358</td>\n",
       "      <td>10.891061</td>\n",
       "      <td>3899.0</td>\n",
       "      <td>358</td>\n",
       "      <td>10.125698</td>\n",
       "      <td>3625.0</td>\n",
       "      <td>358</td>\n",
       "      <td>277.773743</td>\n",
       "      <td>99443</td>\n",
       "      <td>358</td>\n",
       "      <td>11.634078</td>\n",
       "      <td>4165.0</td>\n",
       "      <td>358</td>\n",
       "    </tr>\n",
       "    <tr>\n",
       "      <th>PRAD</th>\n",
       "      <td>0.890688</td>\n",
       "      <td>440.0</td>\n",
       "      <td>494</td>\n",
       "      <td>26.842105</td>\n",
       "      <td>13260.0</td>\n",
       "      <td>494</td>\n",
       "      <td>2.917004</td>\n",
       "      <td>1441.0</td>\n",
       "      <td>494</td>\n",
       "      <td>0.912955</td>\n",
       "      <td>451.0</td>\n",
       "      <td>494</td>\n",
       "      <td>32.445344</td>\n",
       "      <td>16028</td>\n",
       "      <td>494</td>\n",
       "      <td>0.882591</td>\n",
       "      <td>436.0</td>\n",
       "      <td>494</td>\n",
       "    </tr>\n",
       "    <tr>\n",
       "      <th>READ</th>\n",
       "      <td>0.800000</td>\n",
       "      <td>76.0</td>\n",
       "      <td>95</td>\n",
       "      <td>19.305263</td>\n",
       "      <td>1834.0</td>\n",
       "      <td>95</td>\n",
       "      <td>1.947368</td>\n",
       "      <td>185.0</td>\n",
       "      <td>95</td>\n",
       "      <td>0.673684</td>\n",
       "      <td>64.0</td>\n",
       "      <td>95</td>\n",
       "      <td>24.084211</td>\n",
       "      <td>2288</td>\n",
       "      <td>95</td>\n",
       "      <td>1.357895</td>\n",
       "      <td>129.0</td>\n",
       "      <td>95</td>\n",
       "    </tr>\n",
       "    <tr>\n",
       "      <th>SARC</th>\n",
       "      <td>1.032787</td>\n",
       "      <td>252.0</td>\n",
       "      <td>244</td>\n",
       "      <td>18.836066</td>\n",
       "      <td>4596.0</td>\n",
       "      <td>244</td>\n",
       "      <td>1.983607</td>\n",
       "      <td>484.0</td>\n",
       "      <td>244</td>\n",
       "      <td>0.684426</td>\n",
       "      <td>167.0</td>\n",
       "      <td>244</td>\n",
       "      <td>22.954918</td>\n",
       "      <td>5601</td>\n",
       "      <td>244</td>\n",
       "      <td>0.418033</td>\n",
       "      <td>102.0</td>\n",
       "      <td>244</td>\n",
       "    </tr>\n",
       "    <tr>\n",
       "      <th>SKCM</th>\n",
       "      <td>1.448000</td>\n",
       "      <td>543.0</td>\n",
       "      <td>375</td>\n",
       "      <td>24.405333</td>\n",
       "      <td>9152.0</td>\n",
       "      <td>375</td>\n",
       "      <td>1.890667</td>\n",
       "      <td>709.0</td>\n",
       "      <td>375</td>\n",
       "      <td>0.810667</td>\n",
       "      <td>304.0</td>\n",
       "      <td>375</td>\n",
       "      <td>29.448000</td>\n",
       "      <td>11043</td>\n",
       "      <td>375</td>\n",
       "      <td>0.893333</td>\n",
       "      <td>335.0</td>\n",
       "      <td>375</td>\n",
       "    </tr>\n",
       "    <tr>\n",
       "      <th>STAD</th>\n",
       "      <td>3.515493</td>\n",
       "      <td>1248.0</td>\n",
       "      <td>355</td>\n",
       "      <td>177.808451</td>\n",
       "      <td>63122.0</td>\n",
       "      <td>355</td>\n",
       "      <td>6.676056</td>\n",
       "      <td>2370.0</td>\n",
       "      <td>355</td>\n",
       "      <td>5.647887</td>\n",
       "      <td>2005.0</td>\n",
       "      <td>355</td>\n",
       "      <td>202.369014</td>\n",
       "      <td>71841</td>\n",
       "      <td>355</td>\n",
       "      <td>8.721127</td>\n",
       "      <td>3096.0</td>\n",
       "      <td>355</td>\n",
       "    </tr>\n",
       "    <tr>\n",
       "      <th>TGCT</th>\n",
       "      <td>5.788462</td>\n",
       "      <td>903.0</td>\n",
       "      <td>156</td>\n",
       "      <td>22.551282</td>\n",
       "      <td>3518.0</td>\n",
       "      <td>156</td>\n",
       "      <td>5.628205</td>\n",
       "      <td>878.0</td>\n",
       "      <td>156</td>\n",
       "      <td>0.878205</td>\n",
       "      <td>137.0</td>\n",
       "      <td>156</td>\n",
       "      <td>37.442308</td>\n",
       "      <td>5841</td>\n",
       "      <td>156</td>\n",
       "      <td>2.596154</td>\n",
       "      <td>405.0</td>\n",
       "      <td>156</td>\n",
       "    </tr>\n",
       "    <tr>\n",
       "      <th>THYM</th>\n",
       "      <td>1.162393</td>\n",
       "      <td>136.0</td>\n",
       "      <td>117</td>\n",
       "      <td>25.487179</td>\n",
       "      <td>2982.0</td>\n",
       "      <td>117</td>\n",
       "      <td>2.222222</td>\n",
       "      <td>260.0</td>\n",
       "      <td>117</td>\n",
       "      <td>0.811966</td>\n",
       "      <td>95.0</td>\n",
       "      <td>117</td>\n",
       "      <td>35.017094</td>\n",
       "      <td>4097</td>\n",
       "      <td>117</td>\n",
       "      <td>5.333333</td>\n",
       "      <td>624.0</td>\n",
       "      <td>117</td>\n",
       "    </tr>\n",
       "    <tr>\n",
       "      <th>UCEC</th>\n",
       "      <td>1.441624</td>\n",
       "      <td>284.0</td>\n",
       "      <td>197</td>\n",
       "      <td>18.065990</td>\n",
       "      <td>3559.0</td>\n",
       "      <td>197</td>\n",
       "      <td>2.619289</td>\n",
       "      <td>516.0</td>\n",
       "      <td>197</td>\n",
       "      <td>0.878173</td>\n",
       "      <td>173.0</td>\n",
       "      <td>197</td>\n",
       "      <td>24.081218</td>\n",
       "      <td>4744</td>\n",
       "      <td>197</td>\n",
       "      <td>1.076142</td>\n",
       "      <td>212.0</td>\n",
       "      <td>197</td>\n",
       "    </tr>\n",
       "  </tbody>\n",
       "</table>\n",
       "</div>"
      ],
      "text/plain": [
       "                  SVA                       Alu                      HERV  \\\n",
       "                 mean     sum count        mean      sum count       mean   \n",
       "sampleGroup                                                                 \n",
       "ACC          1.125000    72.0    64   14.984375    959.0    64   1.328125   \n",
       "BLCA         0.987469   394.0   399   20.528822   8191.0   399   2.020050   \n",
       "CESC         1.861210   523.0   281   24.822064   6975.0   281   2.508897   \n",
       "COAD         0.756923   246.0   325   18.630769   6055.0   325   0.258462   \n",
       "GBM          1.988372   342.0   172  119.319767  20523.0   172   6.238372   \n",
       "HNSC         2.737060  1322.0   483   20.819876  10056.0   483   2.337474   \n",
       "KICH         1.519231    79.0    52   35.153846   1828.0    52   3.711538   \n",
       "KIRP         1.620438   444.0   274   24.514599   6717.0   274   2.029197   \n",
       "LAML         1.234043   174.0   141   33.631206   4742.0   141   1.262411   \n",
       "LIHC         0.843434   334.0   396   21.414141   8480.0   396   1.555556   \n",
       "LUAD         1.053360   533.0   506   21.452569  10855.0   506   2.094862   \n",
       "LUSC         1.823529   806.0   442   29.764706  13156.0   442   2.395928   \n",
       "OV           6.304469  2257.0   358  238.818436  85497.0   358  10.891061   \n",
       "PRAD         0.890688   440.0   494   26.842105  13260.0   494   2.917004   \n",
       "READ         0.800000    76.0    95   19.305263   1834.0    95   1.947368   \n",
       "SARC         1.032787   252.0   244   18.836066   4596.0   244   1.983607   \n",
       "SKCM         1.448000   543.0   375   24.405333   9152.0   375   1.890667   \n",
       "STAD         3.515493  1248.0   355  177.808451  63122.0   355   6.676056   \n",
       "TGCT         5.788462   903.0   156   22.551282   3518.0   156   5.628205   \n",
       "THYM         1.162393   136.0   117   25.487179   2982.0   117   2.222222   \n",
       "UCEC         1.441624   284.0   197   18.065990   3559.0   197   2.619289   \n",
       "\n",
       "                               PolyA                     total               \\\n",
       "                sum count       mean     sum count        mean    sum count   \n",
       "sampleGroup                                                                   \n",
       "ACC            85.0    64   0.515625    33.0    64   18.406250   1178    64   \n",
       "BLCA          806.0   399   0.817043   326.0   399   28.709273  11455   399   \n",
       "CESC          705.0   281   1.007117   283.0   281   32.750890   9203   281   \n",
       "COAD           84.0   325   0.744615   242.0   325   21.683077   7047   325   \n",
       "GBM          1073.0   172   2.424419   417.0   172  132.546512  22798   172   \n",
       "HNSC         1129.0   483   0.807453   390.0   483   30.751553  14853   483   \n",
       "KICH          193.0    52   1.384615    72.0    52   42.500000   2210    52   \n",
       "KIRP          556.0   274   0.828467   227.0   274   29.952555   8207   274   \n",
       "LAML          178.0   141   0.843972   119.0   141   37.829787   5334   141   \n",
       "LIHC          616.0   396   0.699495   277.0   396   26.196970  10374   396   \n",
       "LUAD         1060.0   506   0.784585   397.0   506   27.371542  13850   506   \n",
       "LUSC         1059.0   442   0.907240   401.0   442   43.065611  19035   442   \n",
       "OV           3899.0   358  10.125698  3625.0   358  277.773743  99443   358   \n",
       "PRAD         1441.0   494   0.912955   451.0   494   32.445344  16028   494   \n",
       "READ          185.0    95   0.673684    64.0    95   24.084211   2288    95   \n",
       "SARC          484.0   244   0.684426   167.0   244   22.954918   5601   244   \n",
       "SKCM          709.0   375   0.810667   304.0   375   29.448000  11043   375   \n",
       "STAD         2370.0   355   5.647887  2005.0   355  202.369014  71841   355   \n",
       "TGCT          878.0   156   0.878205   137.0   156   37.442308   5841   156   \n",
       "THYM          260.0   117   0.811966    95.0   117   35.017094   4097   117   \n",
       "UCEC          516.0   197   0.878173   173.0   197   24.081218   4744   197   \n",
       "\n",
       "                    L1                \n",
       "                  mean     sum count  \n",
       "sampleGroup                           \n",
       "ACC           0.453125    29.0    64  \n",
       "BLCA          4.355890  1738.0   399  \n",
       "CESC          2.551601   717.0   281  \n",
       "COAD          1.292308   420.0   325  \n",
       "GBM           2.575581   443.0   172  \n",
       "HNSC          4.049689  1956.0   483  \n",
       "KICH          0.730769    38.0    52  \n",
       "KIRP          0.959854   263.0   274  \n",
       "LAML          0.858156   121.0   141  \n",
       "LIHC          1.684343   667.0   396  \n",
       "LUAD          1.986166  1005.0   506  \n",
       "LUSC          8.174208  3613.0   442  \n",
       "OV           11.634078  4165.0   358  \n",
       "PRAD          0.882591   436.0   494  \n",
       "READ          1.357895   129.0    95  \n",
       "SARC          0.418033   102.0   244  \n",
       "SKCM          0.893333   335.0   375  \n",
       "STAD          8.721127  3096.0   355  \n",
       "TGCT          2.596154   405.0   156  \n",
       "THYM          5.333333   624.0   117  \n",
       "UCEC          1.076142   212.0   197  "
      ]
     },
     "execution_count": 7,
     "metadata": {},
     "output_type": "execute_result"
    }
   ],
   "source": [
    "countedDFSub.groupby(['sampleGroup']).agg(['mean','sum','count'])"
   ]
  },
  {
   "cell_type": "code",
   "execution_count": 8,
   "metadata": {},
   "outputs": [],
   "source": [
    "countedDFSubMean = countedDFSub.groupby(['sampleGroup']).mean()"
   ]
  },
  {
   "cell_type": "code",
   "execution_count": 10,
   "metadata": {},
   "outputs": [
    {
     "data": {
      "text/html": [
       "<div>\n",
       "<style scoped>\n",
       "    .dataframe tbody tr th:only-of-type {\n",
       "        vertical-align: middle;\n",
       "    }\n",
       "\n",
       "    .dataframe tbody tr th {\n",
       "        vertical-align: top;\n",
       "    }\n",
       "\n",
       "    .dataframe thead th {\n",
       "        text-align: right;\n",
       "    }\n",
       "</style>\n",
       "<table border=\"1\" class=\"dataframe\">\n",
       "  <thead>\n",
       "    <tr style=\"text-align: right;\">\n",
       "      <th></th>\n",
       "      <th>SVA</th>\n",
       "      <th>Alu</th>\n",
       "      <th>HERV</th>\n",
       "      <th>PolyA</th>\n",
       "      <th>total</th>\n",
       "      <th>L1</th>\n",
       "    </tr>\n",
       "    <tr>\n",
       "      <th>sampleGroup</th>\n",
       "      <th></th>\n",
       "      <th></th>\n",
       "      <th></th>\n",
       "      <th></th>\n",
       "      <th></th>\n",
       "      <th></th>\n",
       "    </tr>\n",
       "  </thead>\n",
       "  <tbody>\n",
       "    <tr>\n",
       "      <th>ACC</th>\n",
       "      <td>1.125000</td>\n",
       "      <td>14.984375</td>\n",
       "      <td>1.328125</td>\n",
       "      <td>0.515625</td>\n",
       "      <td>18.406250</td>\n",
       "      <td>0.453125</td>\n",
       "    </tr>\n",
       "    <tr>\n",
       "      <th>BLCA</th>\n",
       "      <td>0.987469</td>\n",
       "      <td>20.528822</td>\n",
       "      <td>2.020050</td>\n",
       "      <td>0.817043</td>\n",
       "      <td>28.709273</td>\n",
       "      <td>4.355890</td>\n",
       "    </tr>\n",
       "    <tr>\n",
       "      <th>CESC</th>\n",
       "      <td>1.861210</td>\n",
       "      <td>24.822064</td>\n",
       "      <td>2.508897</td>\n",
       "      <td>1.007117</td>\n",
       "      <td>32.750890</td>\n",
       "      <td>2.551601</td>\n",
       "    </tr>\n",
       "    <tr>\n",
       "      <th>COAD</th>\n",
       "      <td>0.756923</td>\n",
       "      <td>18.630769</td>\n",
       "      <td>0.258462</td>\n",
       "      <td>0.744615</td>\n",
       "      <td>21.683077</td>\n",
       "      <td>1.292308</td>\n",
       "    </tr>\n",
       "    <tr>\n",
       "      <th>GBM</th>\n",
       "      <td>1.988372</td>\n",
       "      <td>119.319767</td>\n",
       "      <td>6.238372</td>\n",
       "      <td>2.424419</td>\n",
       "      <td>132.546512</td>\n",
       "      <td>2.575581</td>\n",
       "    </tr>\n",
       "  </tbody>\n",
       "</table>\n",
       "</div>"
      ],
      "text/plain": [
       "                  SVA         Alu      HERV     PolyA       total        L1\n",
       "sampleGroup                                                                \n",
       "ACC          1.125000   14.984375  1.328125  0.515625   18.406250  0.453125\n",
       "BLCA         0.987469   20.528822  2.020050  0.817043   28.709273  4.355890\n",
       "CESC         1.861210   24.822064  2.508897  1.007117   32.750890  2.551601\n",
       "COAD         0.756923   18.630769  0.258462  0.744615   21.683077  1.292308\n",
       "GBM          1.988372  119.319767  6.238372  2.424419  132.546512  2.575581"
      ]
     },
     "execution_count": 10,
     "metadata": {},
     "output_type": "execute_result"
    }
   ],
   "source": [
    "countedDFSubMean.head()"
   ]
  },
  {
   "cell_type": "code",
   "execution_count": 46,
   "metadata": {},
   "outputs": [
    {
     "data": {
      "text/plain": [
       "<matplotlib.axes._subplots.AxesSubplot at 0x7fe3ca83fe48>"
      ]
     },
     "execution_count": 46,
     "metadata": {},
     "output_type": "execute_result"
    },
    {
     "data": {
      "image/png": "[encoded data removed]",
      "text/plain": [
       "<Figure size 1440x720 with 1 Axes>"
      ]
     },
     "metadata": {},
     "output_type": "display_data"
    }
   ],
   "source": [
    "import matplotlib.pyplot as plt\n",
    "\n",
    "plt.rcParams[\"figure.figsize\"] = (20,10)\n",
    "countedDFSubMean.plot.bar()"
   ]
  },
  {
   "cell_type": "code",
   "execution_count": 20,
   "metadata": {},
   "outputs": [
    {
     "data": {
      "text/html": [
       "<div>\n",
       "<style scoped>\n",
       "    .dataframe tbody tr th:only-of-type {\n",
       "        vertical-align: middle;\n",
       "    }\n",
       "\n",
       "    .dataframe tbody tr th {\n",
       "        vertical-align: top;\n",
       "    }\n",
       "\n",
       "    .dataframe thead th {\n",
       "        text-align: right;\n",
       "    }\n",
       "</style>\n",
       "<table border=\"1\" class=\"dataframe\">\n",
       "  <thead>\n",
       "    <tr style=\"text-align: right;\">\n",
       "      <th></th>\n",
       "      <th>sampleGroup</th>\n",
       "      <th>SVA</th>\n",
       "      <th>Alu</th>\n",
       "      <th>HERV</th>\n",
       "      <th>PolyA</th>\n",
       "      <th>total</th>\n",
       "      <th>L1</th>\n",
       "    </tr>\n",
       "  </thead>\n",
       "  <tbody>\n",
       "    <tr>\n",
       "      <th>0</th>\n",
       "      <td>ACC</td>\n",
       "      <td>1.125000</td>\n",
       "      <td>14.984375</td>\n",
       "      <td>1.328125</td>\n",
       "      <td>0.515625</td>\n",
       "      <td>18.406250</td>\n",
       "      <td>0.453125</td>\n",
       "    </tr>\n",
       "    <tr>\n",
       "      <th>1</th>\n",
       "      <td>BLCA</td>\n",
       "      <td>0.987469</td>\n",
       "      <td>20.528822</td>\n",
       "      <td>2.020050</td>\n",
       "      <td>0.817043</td>\n",
       "      <td>28.709273</td>\n",
       "      <td>4.355890</td>\n",
       "    </tr>\n",
       "    <tr>\n",
       "      <th>2</th>\n",
       "      <td>CESC</td>\n",
       "      <td>1.861210</td>\n",
       "      <td>24.822064</td>\n",
       "      <td>2.508897</td>\n",
       "      <td>1.007117</td>\n",
       "      <td>32.750890</td>\n",
       "      <td>2.551601</td>\n",
       "    </tr>\n",
       "    <tr>\n",
       "      <th>3</th>\n",
       "      <td>COAD</td>\n",
       "      <td>0.756923</td>\n",
       "      <td>18.630769</td>\n",
       "      <td>0.258462</td>\n",
       "      <td>0.744615</td>\n",
       "      <td>21.683077</td>\n",
       "      <td>1.292308</td>\n",
       "    </tr>\n",
       "    <tr>\n",
       "      <th>4</th>\n",
       "      <td>GBM</td>\n",
       "      <td>1.988372</td>\n",
       "      <td>119.319767</td>\n",
       "      <td>6.238372</td>\n",
       "      <td>2.424419</td>\n",
       "      <td>132.546512</td>\n",
       "      <td>2.575581</td>\n",
       "    </tr>\n",
       "  </tbody>\n",
       "</table>\n",
       "</div>"
      ],
      "text/plain": [
       "  sampleGroup       SVA         Alu      HERV     PolyA       total        L1\n",
       "0         ACC  1.125000   14.984375  1.328125  0.515625   18.406250  0.453125\n",
       "1        BLCA  0.987469   20.528822  2.020050  0.817043   28.709273  4.355890\n",
       "2        CESC  1.861210   24.822064  2.508897  1.007117   32.750890  2.551601\n",
       "3        COAD  0.756923   18.630769  0.258462  0.744615   21.683077  1.292308\n",
       "4         GBM  1.988372  119.319767  6.238372  2.424419  132.546512  2.575581"
      ]
     },
     "execution_count": 20,
     "metadata": {},
     "output_type": "execute_result"
    }
   ],
   "source": [
    "countedDFSubMean.reset_index(drop=False).head()"
   ]
  },
  {
   "cell_type": "code",
   "execution_count": 41,
   "metadata": {},
   "outputs": [
    {
     "data": {
      "text/plain": [
       "<seaborn.axisgrid.FacetGrid at 0x7fe3b9dc4978>"
      ]
     },
     "execution_count": 41,
     "metadata": {},
     "output_type": "execute_result"
    },
    {
     "data": {
      "image/png": "[encoded data removed]",
      "text/plain": [
       "<Figure size 360x360 with 1 Axes>"
      ]
     },
     "metadata": {},
     "output_type": "display_data"
    }
   ],
   "source": [
    "sns.catplot(x=\"sampleGroup\",\n",
    "           y=\"Alu\",\n",
    "           hue=\"sampleGroup\",\n",
    "           data=countedDFSubMean.reset_index(drop=False),\n",
    "           kind = \"bar\")"
   ]
  },
  {
   "cell_type": "code",
   "execution_count": null,
   "metadata": {},
   "outputs": [],
   "source": []
  }
 ],
 "metadata": {
  "kernelspec": {
   "display_name": "Python 3",
   "language": "python",
   "name": "python3"
  },
  "language_info": {
   "codemirror_mode": {
    "name": "ipython",
    "version": 3
   },
   "file_extension": ".py",
   "mimetype": "text/x-python",
   "name": "python",
   "nbconvert_exporter": "python",
   "pygments_lexer": "ipython3",
   "version": "3.6.10"
  }
 },
 "nbformat": 4,
 "nbformat_minor": 4
}
